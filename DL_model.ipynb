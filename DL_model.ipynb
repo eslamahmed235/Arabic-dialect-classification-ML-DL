{
  "cells": [
    {
      "cell_type": "markdown",
      "metadata": {
        "id": "view-in-github",
        "colab_type": "text"
      },
      "source": [
        "<a href=\"https://colab.research.google.com/github/eslamahmed235/Arabic-dialect-classification-ML-DL/blob/main/DL_model.ipynb\" target=\"_parent\"><img src=\"https://colab.research.google.com/assets/colab-badge.svg\" alt=\"Open In Colab\"/></a>"
      ]
    },
    {
      "cell_type": "code",
      "execution_count": null,
      "metadata": {
        "execution": {
          "iopub.execute_input": "2022-03-13T18:35:53.767956Z",
          "iopub.status.busy": "2022-03-13T18:35:53.767530Z",
          "iopub.status.idle": "2022-03-13T18:35:59.519510Z",
          "shell.execute_reply": "2022-03-13T18:35:59.518781Z",
          "shell.execute_reply.started": "2022-03-13T18:35:53.767898Z"
        },
        "id": "vb61fmzfT49e",
        "outputId": "d2a46211-2ef4-45a1-9a09-8ee6bd7080a9"
      },
      "outputs": [
        {
          "name": "stdout",
          "output_type": "stream",
          "text": [
            "--2022-03-13 18:35:54--  https://docs.google.com/uc?export=download&id=1-7vpa0W7lOtiOXCT_XxzH-63ed5Zo7jk\n",
            "Resolving docs.google.com (docs.google.com)... 172.217.5.14, 2607:f8b0:4009:81a::200e\n",
            "Connecting to docs.google.com (docs.google.com)|172.217.5.14|:443... connected.\n",
            "HTTP request sent, awaiting response... 303 See Other\n",
            "Location: https://doc-08-1g-docs.googleusercontent.com/docs/securesc/ha0ro937gcuc7l7deffksulhg5h7mbp1/mtv030tgmh0nps3bc5bktf2ctig3rsdq/1647196500000/15315052740638448697/*/1-7vpa0W7lOtiOXCT_XxzH-63ed5Zo7jk?e=download [following]\n",
            "Warning: wildcards not supported in HTTP.\n",
            "--2022-03-13 18:35:55--  https://doc-08-1g-docs.googleusercontent.com/docs/securesc/ha0ro937gcuc7l7deffksulhg5h7mbp1/mtv030tgmh0nps3bc5bktf2ctig3rsdq/1647196500000/15315052740638448697/*/1-7vpa0W7lOtiOXCT_XxzH-63ed5Zo7jk?e=download\n",
            "Resolving doc-08-1g-docs.googleusercontent.com (doc-08-1g-docs.googleusercontent.com)... 142.250.191.193, 2607:f8b0:4009:81a::2001\n",
            "Connecting to doc-08-1g-docs.googleusercontent.com (doc-08-1g-docs.googleusercontent.com)|142.250.191.193|:443... connected.\n",
            "HTTP request sent, awaiting response... 200 OK\n",
            "Length: 10339942 (9.9M) [text/csv]\n",
            "Saving to: ‘dialict.csv’\n",
            "\n",
            "dialict.csv         100%[===================>]   9.86M  36.2MB/s    in 0.3s    \n",
            "\n",
            "2022-03-13 18:35:55 (36.2 MB/s) - ‘dialict.csv’ saved [10339942/10339942]\n",
            "\n",
            "--2022-03-13 18:35:56--  https://docs.google.com/uc?export=download&id=1-8CiXjf4bmuDS5Q7xVZe3s4iQsua2vER\n",
            "Resolving docs.google.com (docs.google.com)... 172.217.5.14, 2607:f8b0:4009:81a::200e\n",
            "Connecting to docs.google.com (docs.google.com)|172.217.5.14|:443... connected.\n",
            "HTTP request sent, awaiting response... 303 See Other\n",
            "Location: https://doc-14-1g-docs.googleusercontent.com/docs/securesc/ha0ro937gcuc7l7deffksulhg5h7mbp1/5ghuiaglp7slr7tlp2elp83trje1hd88/1647196500000/15315052740638448697/*/1-8CiXjf4bmuDS5Q7xVZe3s4iQsua2vER?e=download [following]\n",
            "Warning: wildcards not supported in HTTP.\n",
            "--2022-03-13 18:35:58--  https://doc-14-1g-docs.googleusercontent.com/docs/securesc/ha0ro937gcuc7l7deffksulhg5h7mbp1/5ghuiaglp7slr7tlp2elp83trje1hd88/1647196500000/15315052740638448697/*/1-8CiXjf4bmuDS5Q7xVZe3s4iQsua2vER?e=download\n",
            "Resolving doc-14-1g-docs.googleusercontent.com (doc-14-1g-docs.googleusercontent.com)... 142.250.191.161, 2607:f8b0:4009:819::2001\n",
            "Connecting to doc-14-1g-docs.googleusercontent.com (doc-14-1g-docs.googleusercontent.com)|142.250.191.161|:443... connected.\n",
            "HTTP request sent, awaiting response... 200 OK\n",
            "Length: 80136817 (76M) [text/csv]\n",
            "Saving to: ‘output.csv’\n",
            "\n",
            "output.csv          100%[===================>]  76.42M  88.3MB/s    in 0.9s    \n",
            "\n",
            "2022-03-13 18:35:59 (88.3 MB/s) - ‘output.csv’ saved [80136817/80136817]\n",
            "\n"
          ]
        }
      ],
      "source": [
        "# Download files\n",
        "!wget --no-check-certificate 'https://docs.google.com/uc?export=download&id=1-7vpa0W7lOtiOXCT_XxzH-63ed5Zo7jk' -O dialict.csv\n",
        "!wget --no-check-certificate 'https://docs.google.com/uc?export=download&id=1-8CiXjf4bmuDS5Q7xVZe3s4iQsua2vER' -O output.csv"
      ]
    },
    {
      "cell_type": "code",
      "execution_count": null,
      "metadata": {
        "execution": {
          "iopub.execute_input": "2022-03-14T05:13:34.053401Z",
          "iopub.status.busy": "2022-03-14T05:13:34.053109Z",
          "iopub.status.idle": "2022-03-14T05:13:36.388061Z",
          "shell.execute_reply": "2022-03-14T05:13:36.387470Z",
          "shell.execute_reply.started": "2022-03-14T05:13:34.053378Z"
        },
        "id": "7Vghf5nDUs4i",
        "tags": [],
        "outputId": "8df341ad-8ebf-404c-de90-9ce397f0791e"
      },
      "outputs": [
        {
          "name": "stdout",
          "output_type": "stream",
          "text": [
            "Requirement already satisfied: sklearn in /opt/conda/envs/saturn/lib/python3.9/site-packages (0.0)\n",
            "Requirement already satisfied: scikit-learn in /opt/conda/envs/saturn/lib/python3.9/site-packages (from sklearn) (1.0.2)\n",
            "Requirement already satisfied: numpy>=1.14.6 in /opt/conda/envs/saturn/lib/python3.9/site-packages (from scikit-learn->sklearn) (1.20.3)\n",
            "Requirement already satisfied: scipy>=1.1.0 in /opt/conda/envs/saturn/lib/python3.9/site-packages (from scikit-learn->sklearn) (1.7.3)\n",
            "Requirement already satisfied: joblib>=0.11 in /opt/conda/envs/saturn/lib/python3.9/site-packages (from scikit-learn->sklearn) (1.1.0)\n",
            "Requirement already satisfied: threadpoolctl>=2.0.0 in /opt/conda/envs/saturn/lib/python3.9/site-packages (from scikit-learn->sklearn) (3.0.0)\n"
          ]
        }
      ],
      "source": [
        "import pandas as pd\n",
        "import numpy as np\n",
        "!pip install sklearn\n",
        "# from tqdm import tqdm_notebook as tqdm\n",
        "from sklearn.model_selection import train_test_split\n",
        "all_datasets= []"
      ]
    },
    {
      "cell_type": "code",
      "execution_count": null,
      "metadata": {
        "execution": {
          "iopub.execute_input": "2022-03-14T05:13:26.756095Z",
          "iopub.status.busy": "2022-03-14T05:13:26.755800Z",
          "iopub.status.idle": "2022-03-14T05:13:28.746327Z",
          "shell.execute_reply": "2022-03-14T05:13:28.745852Z",
          "shell.execute_reply.started": "2022-03-14T05:13:26.756068Z"
        },
        "id": "gLAe44OtUYU0",
        "tags": []
      },
      "outputs": [],
      "source": [
        "text_data = pd.read_csv(\"../../workspace/output.csv\",lineterminator='\\n')\n",
        "label_data = pd.read_csv(\"../../workspace/dialict.csv\")"
      ]
    },
    {
      "cell_type": "code",
      "execution_count": null,
      "metadata": {
        "colab": {
          "base_uri": "https://localhost:8080/",
          "height": 423
        },
        "execution": {
          "iopub.execute_input": "2022-03-14T05:13:39.265273Z",
          "iopub.status.busy": "2022-03-14T05:13:39.264966Z",
          "iopub.status.idle": "2022-03-14T05:13:39.538084Z",
          "shell.execute_reply": "2022-03-14T05:13:39.537582Z",
          "shell.execute_reply.started": "2022-03-14T05:13:39.265245Z"
        },
        "id": "IghPBjZ6U0qW",
        "outputId": "32e8f53c-0b21-480b-bbc7-4b3f61217ed3",
        "tags": []
      },
      "outputs": [
        {
          "data": {
            "text/html": [
              "<div>\n",
              "<style scoped>\n",
              "    .dataframe tbody tr th:only-of-type {\n",
              "        vertical-align: middle;\n",
              "    }\n",
              "\n",
              "    .dataframe tbody tr th {\n",
              "        vertical-align: top;\n",
              "    }\n",
              "\n",
              "    .dataframe thead th {\n",
              "        text-align: right;\n",
              "    }\n",
              "</style>\n",
              "<table border=\"1\" class=\"dataframe\">\n",
              "  <thead>\n",
              "    <tr style=\"text-align: right;\">\n",
              "      <th></th>\n",
              "      <th>tweet_id</th>\n",
              "      <th>tweet</th>\n",
              "      <th>dialect</th>\n",
              "    </tr>\n",
              "  </thead>\n",
              "  <tbody>\n",
              "    <tr>\n",
              "      <th>0</th>\n",
              "      <td>1175358310087892992</td>\n",
              "      <td>@Nw8ieJUwaCAAreT لكن بالنهاية .. ينتفض .. يغير .</td>\n",
              "      <td>IQ</td>\n",
              "    </tr>\n",
              "    <tr>\n",
              "      <th>1</th>\n",
              "      <td>1175416117793349632</td>\n",
              "      <td>@7zNqXP0yrODdRjK يعني هذا محسوب على البشر .. ح...</td>\n",
              "      <td>IQ</td>\n",
              "    </tr>\n",
              "    <tr>\n",
              "      <th>2</th>\n",
              "      <td>1175450108898565888</td>\n",
              "      <td>@KanaanRema مبين من كلامه خليجي</td>\n",
              "      <td>IQ</td>\n",
              "    </tr>\n",
              "    <tr>\n",
              "      <th>3</th>\n",
              "      <td>1175471073770573824</td>\n",
              "      <td>@HAIDER76128900 يسلملي مرورك وروحك الحلوه💐</td>\n",
              "      <td>IQ</td>\n",
              "    </tr>\n",
              "    <tr>\n",
              "      <th>4</th>\n",
              "      <td>1175496913145217024</td>\n",
              "      <td>@hmo2406 وين هل الغيبه  اخ محمد 🌸🌺</td>\n",
              "      <td>IQ</td>\n",
              "    </tr>\n",
              "    <tr>\n",
              "      <th>...</th>\n",
              "      <td>...</td>\n",
              "      <td>...</td>\n",
              "      <td>...</td>\n",
              "    </tr>\n",
              "    <tr>\n",
              "      <th>458192</th>\n",
              "      <td>1019484980282580992</td>\n",
              "      <td>@Al_mhbaa_7 مبسوطين منك اللي باسطانا😅</td>\n",
              "      <td>BH</td>\n",
              "    </tr>\n",
              "    <tr>\n",
              "      <th>458193</th>\n",
              "      <td>1021083283709407232</td>\n",
              "      <td>@Zzainabali @P_ameerah والله ماينده ابش يختي</td>\n",
              "      <td>BH</td>\n",
              "    </tr>\n",
              "    <tr>\n",
              "      <th>458194</th>\n",
              "      <td>1017477537889431552</td>\n",
              "      <td>@Al_mhbaa_7 شو عملنا لك حنا تهربي مننا احنا مس...</td>\n",
              "      <td>BH</td>\n",
              "    </tr>\n",
              "    <tr>\n",
              "      <th>458195</th>\n",
              "      <td>1022430374696239232</td>\n",
              "      <td>@haneenalmwla الله يبارك فيها وبالعافيه 😋😋😋</td>\n",
              "      <td>BH</td>\n",
              "    </tr>\n",
              "    <tr>\n",
              "      <th>458196</th>\n",
              "      <td>1022409931029458944</td>\n",
              "      <td>@jolnar121 السحله ضيفي ي بتطلع لك سحليه😅😅</td>\n",
              "      <td>BH</td>\n",
              "    </tr>\n",
              "  </tbody>\n",
              "</table>\n",
              "<p>458197 rows × 3 columns</p>\n",
              "</div>"
            ],
            "text/plain": [
              "                   tweet_id  \\\n",
              "0       1175358310087892992   \n",
              "1       1175416117793349632   \n",
              "2       1175450108898565888   \n",
              "3       1175471073770573824   \n",
              "4       1175496913145217024   \n",
              "...                     ...   \n",
              "458192  1019484980282580992   \n",
              "458193  1021083283709407232   \n",
              "458194  1017477537889431552   \n",
              "458195  1022430374696239232   \n",
              "458196  1022409931029458944   \n",
              "\n",
              "                                                    tweet dialect  \n",
              "0        @Nw8ieJUwaCAAreT لكن بالنهاية .. ينتفض .. يغير .      IQ  \n",
              "1       @7zNqXP0yrODdRjK يعني هذا محسوب على البشر .. ح...      IQ  \n",
              "2                         @KanaanRema مبين من كلامه خليجي      IQ  \n",
              "3              @HAIDER76128900 يسلملي مرورك وروحك الحلوه💐      IQ  \n",
              "4                      @hmo2406 وين هل الغيبه  اخ محمد 🌸🌺      IQ  \n",
              "...                                                   ...     ...  \n",
              "458192              @Al_mhbaa_7 مبسوطين منك اللي باسطانا😅      BH  \n",
              "458193       @Zzainabali @P_ameerah والله ماينده ابش يختي      BH  \n",
              "458194  @Al_mhbaa_7 شو عملنا لك حنا تهربي مننا احنا مس...      BH  \n",
              "458195        @haneenalmwla الله يبارك فيها وبالعافيه 😋😋😋      BH  \n",
              "458196          @jolnar121 السحله ضيفي ي بتطلع لك سحليه😅😅      BH  \n",
              "\n",
              "[458197 rows x 3 columns]"
            ]
          },
          "execution_count": 4,
          "metadata": {},
          "output_type": "execute_result"
        }
      ],
      "source": [
        "text_data.drop('Unnamed: 0', axis=1, inplace=True)\n",
        "Data = pd.merge(text_data, label_data, how='inner', left_on = 'tweet_id', right_on = 'id')\n",
        "Data.drop('id', axis=1, inplace=True)\n",
        "# Data['clean_tweet'] = Data['tweet']\n",
        "\n",
        "Data"
      ]
    },
    {
      "cell_type": "code",
      "execution_count": null,
      "metadata": {
        "colab": {
          "base_uri": "https://localhost:8080/"
        },
        "execution": {
          "iopub.execute_input": "2022-03-13T23:53:22.421352Z",
          "iopub.status.busy": "2022-03-13T23:53:22.421019Z",
          "iopub.status.idle": "2022-03-13T23:53:23.267933Z",
          "shell.execute_reply": "2022-03-13T23:53:23.267221Z",
          "shell.execute_reply.started": "2022-03-13T23:53:22.421324Z"
        },
        "id": "Tgz-VusDVAaM",
        "outputId": "253b3bbd-7ab7-491e-f41d-87c0fc65def7",
        "tags": []
      },
      "outputs": [
        {
          "name": "stdout",
          "output_type": "stream",
          "text": [
            "There are 1 GPU(s) available.\n",
            "We will use the GPU: Tesla T4\n",
            "Sun Mar 13 23:53:23 2022       \n",
            "+-----------------------------------------------------------------------------+\n",
            "| NVIDIA-SMI 470.57.02    Driver Version: 470.57.02    CUDA Version: 11.4     |\n",
            "|-------------------------------+----------------------+----------------------+\n",
            "| GPU  Name        Persistence-M| Bus-Id        Disp.A | Volatile Uncorr. ECC |\n",
            "| Fan  Temp  Perf  Pwr:Usage/Cap|         Memory-Usage | GPU-Util  Compute M. |\n",
            "|                               |                      |               MIG M. |\n",
            "|===============================+======================+======================|\n",
            "|   0  Tesla T4            On   | 00000000:00:1E.0 Off |                    0 |\n",
            "| N/A   33C    P8     9W /  70W |      3MiB / 15109MiB |      0%      Default |\n",
            "|                               |                      |                  N/A |\n",
            "+-------------------------------+----------------------+----------------------+\n",
            "                                                                               \n",
            "+-----------------------------------------------------------------------------+\n",
            "| Processes:                                                                  |\n",
            "|  GPU   GI   CI        PID   Type   Process name                  GPU Memory |\n",
            "|        ID   ID                                                   Usage      |\n",
            "|=============================================================================|\n",
            "|  No running processes found                                                 |\n",
            "+-----------------------------------------------------------------------------+\n"
          ]
        }
      ],
      "source": [
        "import torch\n",
        "\n",
        "# If there's a GPU available...\n",
        "if torch.cuda.is_available():    \n",
        "\n",
        "    # Tell PyTorch to use the GPU.\n",
        "    device = torch.device(\"cuda\")\n",
        "\n",
        "    print('There are %d GPU(s) available.' % torch.cuda.device_count())\n",
        "\n",
        "    print('We will use the GPU:', torch.cuda.get_device_name(0))\n",
        "    !nvidia-smi\n",
        "\n",
        "# If not...\n",
        "else:\n",
        "    print('No GPU available, using the CPU instead.')\n",
        "    device = torch.device(\"cpu\")"
      ]
    },
    {
      "cell_type": "code",
      "execution_count": null,
      "metadata": {
        "colab": {
          "base_uri": "https://localhost:8080/"
        },
        "execution": {
          "iopub.execute_input": "2022-03-13T23:53:33.843762Z",
          "iopub.status.busy": "2022-03-13T23:53:33.843444Z",
          "iopub.status.idle": "2022-03-13T23:53:51.835296Z",
          "shell.execute_reply": "2022-03-13T23:53:51.834465Z",
          "shell.execute_reply.started": "2022-03-13T23:53:33.843735Z"
        },
        "id": "y024z5AnlTLz",
        "outputId": "dd0d2224-a149-49ea-f8f0-1ba30e2d68c3",
        "tags": []
      },
      "outputs": [
        {
          "name": "stdout",
          "output_type": "stream",
          "text": [
            "Collecting optuna==2.3.0\n",
            "  Using cached optuna-2.3.0-py3-none-any.whl\n",
            "Collecting alembic\n",
            "  Using cached alembic-1.7.6-py3-none-any.whl (210 kB)\n",
            "Requirement already satisfied: scipy!=1.4.0 in /opt/conda/envs/saturn/lib/python3.9/site-packages (from optuna==2.3.0) (1.7.3)\n",
            "Collecting sqlalchemy>=1.1.0\n",
            "  Using cached SQLAlchemy-1.4.32-cp39-cp39-manylinux_2_5_x86_64.manylinux1_x86_64.manylinux_2_17_x86_64.manylinux2014_x86_64.whl (1.6 MB)\n",
            "Requirement already satisfied: joblib in /opt/conda/envs/saturn/lib/python3.9/site-packages (from optuna==2.3.0) (1.1.0)\n",
            "Requirement already satisfied: tqdm in /opt/conda/envs/saturn/lib/python3.9/site-packages (from optuna==2.3.0) (4.62.3)\n",
            "Collecting cmaes>=0.6.0\n",
            "  Using cached cmaes-0.8.2-py3-none-any.whl (15 kB)\n",
            "Collecting colorlog\n",
            "  Using cached colorlog-6.6.0-py2.py3-none-any.whl (11 kB)\n",
            "Collecting cliff\n",
            "  Using cached cliff-3.10.1-py3-none-any.whl (81 kB)\n",
            "Requirement already satisfied: numpy in /opt/conda/envs/saturn/lib/python3.9/site-packages (from optuna==2.3.0) (1.21.2)\n",
            "Requirement already satisfied: packaging>=20.0 in /opt/conda/envs/saturn/lib/python3.9/site-packages (from optuna==2.3.0) (21.3)\n",
            "Requirement already satisfied: pyparsing!=3.0.5,>=2.0.2 in /opt/conda/envs/saturn/lib/python3.9/site-packages (from packaging>=20.0->optuna==2.3.0) (3.0.4)\n",
            "Collecting greenlet!=0.4.17\n",
            "  Using cached greenlet-1.1.2-cp39-cp39-manylinux_2_17_x86_64.manylinux2014_x86_64.whl (153 kB)\n",
            "Collecting Mako\n",
            "  Using cached Mako-1.2.0-py3-none-any.whl (78 kB)\n",
            "Collecting pbr!=2.1.0,>=2.0.0\n",
            "  Using cached pbr-5.8.1-py2.py3-none-any.whl (113 kB)\n",
            "Collecting PrettyTable>=0.7.2\n",
            "  Using cached prettytable-3.2.0-py3-none-any.whl (26 kB)\n",
            "Requirement already satisfied: PyYAML>=3.12 in /opt/conda/envs/saturn/lib/python3.9/site-packages (from cliff->optuna==2.3.0) (6.0)\n",
            "Collecting cmd2>=1.0.0\n",
            "  Using cached cmd2-2.4.0-py3-none-any.whl (150 kB)\n",
            "Collecting autopage>=0.4.0\n",
            "  Using cached autopage-0.5.0-py3-none-any.whl (29 kB)\n",
            "Collecting stevedore>=2.0.1\n",
            "  Using cached stevedore-3.5.0-py3-none-any.whl (49 kB)\n",
            "Collecting pyperclip>=1.6\n",
            "  Using cached pyperclip-1.8.2-py3-none-any.whl\n",
            "Requirement already satisfied: attrs>=16.3.0 in /opt/conda/envs/saturn/lib/python3.9/site-packages (from cmd2>=1.0.0->cliff->optuna==2.3.0) (21.2.0)\n",
            "Requirement already satisfied: wcwidth>=0.1.7 in /opt/conda/envs/saturn/lib/python3.9/site-packages (from cmd2>=1.0.0->cliff->optuna==2.3.0) (0.2.5)\n",
            "Requirement already satisfied: MarkupSafe>=0.9.2 in /opt/conda/envs/saturn/lib/python3.9/site-packages (from Mako->alembic->optuna==2.3.0) (2.0.1)\n",
            "Installing collected packages: pyperclip, pbr, greenlet, stevedore, sqlalchemy, PrettyTable, Mako, cmd2, autopage, colorlog, cmaes, cliff, alembic, optuna\n",
            "Successfully installed Mako-1.2.0 PrettyTable-3.2.0 alembic-1.7.6 autopage-0.5.0 cliff-3.10.1 cmaes-0.8.2 cmd2-2.4.0 colorlog-6.6.0 greenlet-1.1.2 optuna-2.3.0 pbr-5.8.1 pyperclip-1.8.2 sqlalchemy-1.4.32 stevedore-3.5.0\n",
            "Collecting transformers==4.2.1\n",
            "  Using cached transformers-4.2.1-py3-none-any.whl (1.8 MB)\n",
            "Collecting tokenizers==0.9.4\n",
            "  Using cached tokenizers-0.9.4-cp39-cp39-manylinux2010_x86_64.whl (2.9 MB)\n",
            "Requirement already satisfied: numpy in /opt/conda/envs/saturn/lib/python3.9/site-packages (from transformers==4.2.1) (1.21.2)\n",
            "Requirement already satisfied: packaging in /opt/conda/envs/saturn/lib/python3.9/site-packages (from transformers==4.2.1) (21.3)\n",
            "Collecting sacremoses\n",
            "  Using cached sacremoses-0.0.47-py2.py3-none-any.whl (895 kB)\n",
            "Requirement already satisfied: tqdm>=4.27 in /opt/conda/envs/saturn/lib/python3.9/site-packages (from transformers==4.2.1) (4.62.3)\n",
            "Collecting filelock\n",
            "  Using cached filelock-3.6.0-py3-none-any.whl (10.0 kB)\n",
            "Requirement already satisfied: requests in /opt/conda/envs/saturn/lib/python3.9/site-packages (from transformers==4.2.1) (2.27.1)\n",
            "Collecting regex!=2019.12.17\n",
            "  Using cached regex-2022.3.2-cp39-cp39-manylinux_2_17_x86_64.manylinux2014_x86_64.whl (763 kB)\n",
            "Requirement already satisfied: pyparsing!=3.0.5,>=2.0.2 in /opt/conda/envs/saturn/lib/python3.9/site-packages (from packaging->transformers==4.2.1) (3.0.4)\n",
            "Requirement already satisfied: idna<4,>=2.5 in /opt/conda/envs/saturn/lib/python3.9/site-packages (from requests->transformers==4.2.1) (3.3)\n",
            "Requirement already satisfied: certifi>=2017.4.17 in /opt/conda/envs/saturn/lib/python3.9/site-packages (from requests->transformers==4.2.1) (2021.10.8)\n",
            "Requirement already satisfied: urllib3<1.27,>=1.21.1 in /opt/conda/envs/saturn/lib/python3.9/site-packages (from requests->transformers==4.2.1) (1.26.7)\n",
            "Requirement already satisfied: charset-normalizer~=2.0.0 in /opt/conda/envs/saturn/lib/python3.9/site-packages (from requests->transformers==4.2.1) (2.0.4)\n",
            "Requirement already satisfied: click in /opt/conda/envs/saturn/lib/python3.9/site-packages (from sacremoses->transformers==4.2.1) (8.0.3)\n",
            "Requirement already satisfied: joblib in /opt/conda/envs/saturn/lib/python3.9/site-packages (from sacremoses->transformers==4.2.1) (1.1.0)\n",
            "Requirement already satisfied: six in /opt/conda/envs/saturn/lib/python3.9/site-packages (from sacremoses->transformers==4.2.1) (1.16.0)\n",
            "Installing collected packages: regex, tokenizers, sacremoses, filelock, transformers\n",
            "Successfully installed filelock-3.6.0 regex-2022.3.2 sacremoses-0.0.47 tokenizers-0.9.4 transformers-4.2.1\n",
            "Collecting farasapy\n",
            "  Using cached farasapy-0.0.14-py3-none-any.whl (11 kB)\n",
            "Requirement already satisfied: tqdm in /opt/conda/envs/saturn/lib/python3.9/site-packages (from farasapy) (4.62.3)\n",
            "Requirement already satisfied: requests in /opt/conda/envs/saturn/lib/python3.9/site-packages (from farasapy) (2.27.1)\n",
            "Requirement already satisfied: certifi>=2017.4.17 in /opt/conda/envs/saturn/lib/python3.9/site-packages (from requests->farasapy) (2021.10.8)\n",
            "Requirement already satisfied: idna<4,>=2.5 in /opt/conda/envs/saturn/lib/python3.9/site-packages (from requests->farasapy) (3.3)\n",
            "Requirement already satisfied: urllib3<1.27,>=1.21.1 in /opt/conda/envs/saturn/lib/python3.9/site-packages (from requests->farasapy) (1.26.7)\n",
            "Requirement already satisfied: charset-normalizer~=2.0.0 in /opt/conda/envs/saturn/lib/python3.9/site-packages (from requests->farasapy) (2.0.4)\n",
            "Installing collected packages: farasapy\n",
            "Successfully installed farasapy-0.0.14\n",
            "Collecting pyarabic\n",
            "  Using cached PyArabic-0.6.14-py3-none-any.whl (126 kB)\n",
            "Requirement already satisfied: six>=1.14.0 in /opt/conda/envs/saturn/lib/python3.9/site-packages (from pyarabic) (1.16.0)\n",
            "Installing collected packages: pyarabic\n",
            "Successfully installed pyarabic-0.6.14\n",
            "Cloning into 'arabert'...\n",
            "remote: Enumerating objects: 564, done.\u001b[K\n",
            "remote: Counting objects: 100% (350/350), done.\u001b[K\n",
            "remote: Compressing objects: 100% (252/252), done.\u001b[K\n",
            "remote: Total 564 (delta 188), reused 247 (delta 92), pack-reused 214\u001b[K\n",
            "Receiving objects: 100% (564/564), 9.16 MiB | 14.02 MiB/s, done.\n",
            "Resolving deltas: 100% (311/311), done.\n"
          ]
        }
      ],
      "source": [
        "!pip install emoji\n",
        "!pip install optuna==2.3.0\n",
        "!pip install transformers==4.2.1\n",
        "!pip install farasapy\n",
        "!pip install pyarabic\n",
        "!git clone https://github.com/aub-mind/arabert"
      ]
    },
    {
      "cell_type": "code",
      "execution_count": null,
      "metadata": {
        "colab": {
          "base_uri": "https://localhost:8080/"
        },
        "execution": {
          "iopub.execute_input": "2022-03-13T23:53:51.837363Z",
          "iopub.status.busy": "2022-03-13T23:53:51.837025Z",
          "iopub.status.idle": "2022-03-13T23:54:05.569964Z",
          "shell.execute_reply": "2022-03-13T23:54:05.569247Z",
          "shell.execute_reply.started": "2022-03-13T23:53:51.837324Z"
        },
        "id": "kwlMoq-hmZ61",
        "outputId": "a850072f-d42a-4783-f654-abf7fb19b27b",
        "tags": []
      },
      "outputs": [
        {
          "name": "stdout",
          "output_type": "stream",
          "text": [
            "Cloning into 'HARD-Arabic-Dataset'...\n",
            "remote: Enumerating objects: 100, done.\u001b[K\n",
            "remote: Total 100 (delta 0), reused 0 (delta 0), pack-reused 100\u001b[K\n",
            "Receiving objects: 100% (100/100), 116.36 MiB | 63.28 MiB/s, done.\n",
            "Resolving deltas: 100% (35/35), done.\n",
            "Cloning into 'ASTD'...\n",
            "remote: Enumerating objects: 29, done.\u001b[K\n",
            "remote: Total 29 (delta 0), reused 0 (delta 0), pack-reused 29\u001b[K\n",
            "Unpacking objects: 100% (29/29), done.\n",
            "Cloning into 'AraSenti'...\n",
            "remote: Enumerating objects: 20, done.\u001b[K\n",
            "remote: Total 20 (delta 0), reused 0 (delta 0), pack-reused 20\u001b[K\n",
            "Unpacking objects: 100% (20/20), done.\n",
            "Cloning into 'LABR'...\n",
            "remote: Enumerating objects: 37, done.\u001b[K\n",
            "remote: Total 37 (delta 0), reused 0 (delta 0), pack-reused 37\u001b[K\n",
            "Unpacking objects: 100% (37/37), done.\n",
            "--2022-03-13 23:54:01--  http://homepages.inf.ed.ac.uk/wmagdy/Resources/ArSAS.zip\n",
            "Resolving homepages.inf.ed.ac.uk (homepages.inf.ed.ac.uk)... 129.215.32.113\n",
            "Connecting to homepages.inf.ed.ac.uk (homepages.inf.ed.ac.uk)|129.215.32.113|:80... connected.\n",
            "HTTP request sent, awaiting response... 301 Moved Permanently\n",
            "Location: https://homepages.inf.ed.ac.uk/wmagdy/Resources/ArSAS.zip [following]\n",
            "--2022-03-13 23:54:01--  https://homepages.inf.ed.ac.uk/wmagdy/Resources/ArSAS.zip\n",
            "Connecting to homepages.inf.ed.ac.uk (homepages.inf.ed.ac.uk)|129.215.32.113|:443... connected.\n",
            "HTTP request sent, awaiting response... 200 OK\n",
            "Length: 1905723 (1.8M) [application/zip]\n",
            "Saving to: ‘ArSAS.zip’\n",
            "\n",
            "ArSAS.zip           100%[===================>]   1.82M  1.98MB/s    in 0.9s    \n",
            "\n",
            "2022-03-13 23:54:03 (1.98 MB/s) - ‘ArSAS.zip’ saved [1905723/1905723]\n",
            "\n",
            "/bin/bash: unzip: command not found\n",
            "/bin/bash: unrar: command not found\n",
            "/bin/bash: unzip: command not found\n"
          ]
        }
      ],
      "source": [
        "!git clone https://github.com/elnagara/HARD-Arabic-Dataset\n",
        "!git clone https://github.com/mahmoudnabil/ASTD\n",
        "!git clone https://github.com/nora-twairesh/AraSenti\n",
        "!git clone https://github.com/mohamedadaly/LABR\n",
        "!wget http://homepages.inf.ed.ac.uk/wmagdy/Resources/ArSAS.zip\n",
        "!unzip ArSAS.zip\n",
        "\n",
        "!unrar x '/content/HARD-Arabic-Dataset/data/unbalanced-reviews.rar'\n",
        "!unzip '/content/HARD-Arabic-Dataset/data/balanced-reviews.zip'"
      ]
    },
    {
      "cell_type": "code",
      "execution_count": null,
      "metadata": {
        "execution": {
          "iopub.execute_input": "2022-03-13T23:54:05.571403Z",
          "iopub.status.busy": "2022-03-13T23:54:05.571121Z",
          "iopub.status.idle": "2022-03-13T23:54:07.154111Z",
          "shell.execute_reply": "2022-03-13T23:54:07.153322Z",
          "shell.execute_reply.started": "2022-03-13T23:54:05.571378Z"
        },
        "id": "krBvefg6l6vv",
        "tags": []
      },
      "outputs": [],
      "source": [
        "!mkdir data\n",
        "!mkdir train"
      ]
    },
    {
      "cell_type": "code",
      "execution_count": null,
      "metadata": {
        "execution": {
          "iopub.execute_input": "2022-03-13T23:54:07.155985Z",
          "iopub.status.busy": "2022-03-13T23:54:07.155726Z",
          "iopub.status.idle": "2022-03-13T23:54:07.160161Z",
          "shell.execute_reply": "2022-03-13T23:54:07.159480Z",
          "shell.execute_reply.started": "2022-03-13T23:54:07.155960Z"
        },
        "id": "dfbF19DeVudW",
        "tags": []
      },
      "outputs": [],
      "source": [
        "class Dataset:\n",
        "    def __init__(\n",
        "        self,\n",
        "        name,\n",
        "        train,\n",
        "        test,\n",
        "        label_list,\n",
        "    ):\n",
        "        self.name = name\n",
        "        self.train = train\n",
        "        self.test = test\n",
        "        self.label_list = label_list"
      ]
    },
    {
      "cell_type": "code",
      "execution_count": null,
      "metadata": {
        "execution": {
          "iopub.execute_input": "2022-03-13T23:54:07.161583Z",
          "iopub.status.busy": "2022-03-13T23:54:07.161146Z",
          "iopub.status.idle": "2022-03-13T23:54:11.724796Z",
          "shell.execute_reply": "2022-03-13T23:54:11.724101Z",
          "shell.execute_reply.started": "2022-03-13T23:54:07.161548Z"
        },
        "id": "hqRiqx0NX0C3",
        "tags": [],
        "outputId": "fc5b84a5-eb42-4cfe-9419-4fe91f332225"
      },
      "outputs": [
        {
          "name": "stdout",
          "output_type": "stream",
          "text": [
            "Collecting imblearn\n",
            "  Using cached imblearn-0.0-py2.py3-none-any.whl (1.9 kB)\n",
            "Collecting imbalanced-learn\n",
            "  Using cached imbalanced_learn-0.9.0-py3-none-any.whl (199 kB)\n",
            "Requirement already satisfied: scikit-learn>=1.0.1 in /opt/conda/envs/saturn/lib/python3.9/site-packages (from imbalanced-learn->imblearn) (1.0.2)\n",
            "Requirement already satisfied: threadpoolctl>=2.0.0 in /opt/conda/envs/saturn/lib/python3.9/site-packages (from imbalanced-learn->imblearn) (3.1.0)\n",
            "Requirement already satisfied: numpy>=1.14.6 in /opt/conda/envs/saturn/lib/python3.9/site-packages (from imbalanced-learn->imblearn) (1.21.2)\n",
            "Requirement already satisfied: joblib>=0.11 in /opt/conda/envs/saturn/lib/python3.9/site-packages (from imbalanced-learn->imblearn) (1.1.0)\n",
            "Requirement already satisfied: scipy>=1.1.0 in /opt/conda/envs/saturn/lib/python3.9/site-packages (from imbalanced-learn->imblearn) (1.7.3)\n",
            "Installing collected packages: imbalanced-learn, imblearn\n",
            "Successfully installed imbalanced-learn-0.9.0 imblearn-0.0\n"
          ]
        }
      ],
      "source": [
        "!pip install imblearn\n",
        "from pandas.core.common import random_state\n",
        "from imblearn.under_sampling import RandomUnderSampler\n",
        "\n",
        "undersample = RandomUnderSampler()\n",
        "X_un, y_un  = undersample.fit_resample(np.array(Data['tweet']).reshape(-1, 1), Data['dialect'])\n",
        "d = {'tweet': X_un, 'dialect': y_un}\n",
        "df_data= pd.DataFrame(X_un)\n",
        "df_data['dialect'] = y_un\n",
        "df_data.columns = [\"tweet\", 'dialect']\n"
      ]
    },
    {
      "cell_type": "code",
      "execution_count": null,
      "metadata": {
        "execution": {
          "iopub.execute_input": "2022-03-13T23:54:11.726179Z",
          "iopub.status.busy": "2022-03-13T23:54:11.725925Z",
          "iopub.status.idle": "2022-03-13T23:54:11.759502Z",
          "shell.execute_reply": "2022-03-13T23:54:11.758957Z",
          "shell.execute_reply.started": "2022-03-13T23:54:11.726154Z"
        },
        "id": "SyfjA63CX52u",
        "tags": []
      },
      "outputs": [],
      "source": [
        "train_Data, test_Data = train_test_split(df_data, test_size=0.2, random_state=42)\n",
        "label_list_Data = list(set(df_data['dialect'].tolist()))\n",
        "\n",
        "data_Hard = Dataset(\"Data\", train_Data, test_Data, label_list_Data)\n",
        "all_datasets.append(data_Hard)"
      ]
    },
    {
      "cell_type": "code",
      "execution_count": null,
      "metadata": {
        "colab": {
          "base_uri": "https://localhost:8080/"
        },
        "execution": {
          "iopub.execute_input": "2022-03-13T23:54:11.760618Z",
          "iopub.status.busy": "2022-03-13T23:54:11.760394Z",
          "iopub.status.idle": "2022-03-13T23:54:11.764428Z",
          "shell.execute_reply": "2022-03-13T23:54:11.763781Z",
          "shell.execute_reply.started": "2022-03-13T23:54:11.760597Z"
        },
        "id": "-JYKP2AAdBXw",
        "outputId": "a4a3b22c-74b7-443c-b3e2-f533eafc9837",
        "tags": []
      },
      "outputs": [
        {
          "name": "stdout",
          "output_type": "stream",
          "text": [
            "Data\n"
          ]
        }
      ],
      "source": [
        "for x in all_datasets:\n",
        "  print(x.name) "
      ]
    },
    {
      "cell_type": "code",
      "execution_count": null,
      "metadata": {
        "execution": {
          "iopub.execute_input": "2022-03-13T23:54:11.765491Z",
          "iopub.status.busy": "2022-03-13T23:54:11.765282Z",
          "iopub.status.idle": "2022-03-13T23:54:13.322151Z",
          "shell.execute_reply": "2022-03-13T23:54:13.321085Z",
          "shell.execute_reply.started": "2022-03-13T23:54:11.765465Z"
        },
        "id": "HUn2RB6Bvrxj",
        "tags": []
      },
      "outputs": [],
      "source": [
        "from arabert.preprocess import ArabertPreprocessor\n",
        "import numpy as np\n",
        "from sklearn.metrics import classification_report, accuracy_score, f1_score, confusion_matrix, precision_score , recall_score\n",
        "\n",
        "from transformers import AutoConfig, AutoModelForSequenceClassification, AutoTokenizer, BertTokenizer\n",
        "from transformers.data.processors import SingleSentenceClassificationProcessor\n",
        "from transformers import Trainer , TrainingArguments\n",
        "from transformers.trainer_utils import EvaluationStrategy\n",
        "from transformers.data.processors.utils import InputFeatures\n",
        "from torch.utils.data import Dataset\n",
        "from torch.utils.data import DataLoader\n",
        "from sklearn.utils import resample\n",
        "import logging\n",
        "import torch\n",
        "import optuna "
      ]
    },
    {
      "cell_type": "code",
      "execution_count": null,
      "metadata": {
        "execution": {
          "iopub.execute_input": "2022-03-13T23:54:13.323256Z",
          "iopub.status.busy": "2022-03-13T23:54:13.323037Z",
          "iopub.status.idle": "2022-03-13T23:54:13.326730Z",
          "shell.execute_reply": "2022-03-13T23:54:13.326048Z",
          "shell.execute_reply.started": "2022-03-13T23:54:13.323234Z"
        },
        "id": "KfNKr05tv7cA",
        "tags": []
      },
      "outputs": [],
      "source": [
        "logging.basicConfig(level=logging.WARNING)\n",
        "logger = logging.getLogger(__name__)"
      ]
    },
    {
      "cell_type": "code",
      "execution_count": null,
      "metadata": {
        "colab": {
          "base_uri": "https://localhost:8080/"
        },
        "execution": {
          "iopub.execute_input": "2022-03-13T23:55:18.237178Z",
          "iopub.status.busy": "2022-03-13T23:55:18.236879Z",
          "iopub.status.idle": "2022-03-13T23:55:21.797119Z",
          "shell.execute_reply": "2022-03-13T23:55:21.796352Z",
          "shell.execute_reply.started": "2022-03-13T23:55:18.237150Z"
        },
        "id": "vzeVFoz1wDYf",
        "outputId": "5ee53906-b8b1-419e-c0ab-3384421a53f2",
        "tags": []
      },
      "outputs": [
        {
          "name": "stdout",
          "output_type": "stream",
          "text": [
            "Collecting emoji\n",
            "  Downloading emoji-1.7.0.tar.gz (175 kB)\n",
            "\u001b[K     |████████████████████████████████| 175 kB 3.6 MB/s eta 0:00:01\n",
            "\u001b[?25hBuilding wheels for collected packages: emoji\n",
            "  Building wheel for emoji (setup.py) ... \u001b[?25ldone\n",
            "\u001b[?25h  Created wheel for emoji: filename=emoji-1.7.0-py3-none-any.whl size=171046 sha256=ad38f1b6f1b6e3bc40a51313b6c2fbe1bffc953e7a86183b25790caf3de89c75\n",
            "  Stored in directory: /home/jovyan/.cache/pip/wheels/fa/7a/e9/22dd0515e1bad255e51663ee513a2fa839c95934c5fc301090\n",
            "Successfully built emoji\n",
            "Installing collected packages: emoji\n",
            "Successfully installed emoji-1.7.0\n",
            "Dataset found\n"
          ]
        }
      ],
      "source": [
        "dataset_name = 'Data'\n",
        "model_name = 'aubmindlab/bert-base-arabertv02-twitter'\n",
        "task_name = 'classification'\n",
        "max_len = 128\n",
        "for d in all_datasets:\n",
        "  if d.name==dataset_name:\n",
        "    selected_dataset = d\n",
        "    print('Dataset found')\n",
        "    break"
      ]
    },
    {
      "cell_type": "code",
      "execution_count": null,
      "metadata": {
        "execution": {
          "iopub.execute_input": "2022-03-13T23:55:23.555117Z",
          "iopub.status.busy": "2022-03-13T23:55:23.554788Z",
          "iopub.status.idle": "2022-03-13T23:56:07.584155Z",
          "shell.execute_reply": "2022-03-13T23:56:07.583621Z",
          "shell.execute_reply.started": "2022-03-13T23:55:23.555089Z"
        },
        "id": "oDj-p7vKdgZ8",
        "tags": []
      },
      "outputs": [],
      "source": [
        "# preprocessing with bert\n",
        "DATA_COLUMN = \"tweet\"\n",
        "LABEL_COLUMN = \"dialect\"\n",
        "arabert_prep = ArabertPreprocessor(model_name.split(\"/\")[-1])\n",
        "\n",
        "selected_dataset.train[DATA_COLUMN] = selected_dataset.train[DATA_COLUMN].apply(lambda x:   arabert_prep.preprocess(x))\n",
        "selected_dataset.test[DATA_COLUMN] = selected_dataset.test[DATA_COLUMN].apply(lambda x:   arabert_prep.preprocess(x))  "
      ]
    },
    {
      "cell_type": "code",
      "execution_count": null,
      "metadata": {
        "execution": {
          "iopub.execute_input": "2022-03-13T23:56:07.585460Z",
          "iopub.status.busy": "2022-03-13T23:56:07.585238Z",
          "iopub.status.idle": "2022-03-13T23:56:07.591291Z",
          "shell.execute_reply": "2022-03-13T23:56:07.590722Z",
          "shell.execute_reply.started": "2022-03-13T23:56:07.585438Z"
        },
        "id": "3il2TZ7seFPv",
        "tags": []
      },
      "outputs": [],
      "source": [
        "class BERTDataset(Dataset):\n",
        "    def __init__(self, text, target, model_name, max_len, label_map):\n",
        "      super(BERTDataset).__init__()\n",
        "      self.text = text\n",
        "      self.target = target\n",
        "      self.tokenizer_name = model_name\n",
        "      self.tokenizer = AutoTokenizer.from_pretrained(model_name)\n",
        "      self.max_len = max_len\n",
        "      self.label_map = label_map\n",
        "      \n",
        "\n",
        "    def __len__(self):\n",
        "      return len(self.text)\n",
        "\n",
        "    def __getitem__(self,item):\n",
        "      text = str(self.text[item])\n",
        "      text = \" \".join(text.split())\n",
        "\n",
        "\n",
        "        \n",
        "      input_ids = self.tokenizer.encode(\n",
        "          text,\n",
        "          add_special_tokens=True,\n",
        "          max_length=self.max_len,\n",
        "          truncation='longest_first'\n",
        "      )     \n",
        "    \n",
        "      attention_mask = [1] * len(input_ids)\n",
        "\n",
        "      # Zero-pad up to the sequence length.\n",
        "      padding_length = self.max_len - len(input_ids)\n",
        "      input_ids = input_ids + ([self.tokenizer.pad_token_id] * padding_length)\n",
        "      attention_mask = attention_mask + ([0] * padding_length)    \n",
        "      \n",
        "      return InputFeatures(input_ids=input_ids, attention_mask=attention_mask, label=self.label_map[self.target[item]])"
      ]
    },
    {
      "cell_type": "code",
      "execution_count": null,
      "metadata": {
        "colab": {
          "base_uri": "https://localhost:8080/",
          "height": 214,
          "referenced_widgets": [
            "362eed48e5a44c81877725517c09a306",
            "fb73f16af88a4341b051dd14098b6cfa",
            "c8b2bb71fdda4ff5be1b2e801ca5df3f",
            "7ed2c22de91741ce8e6b3df91c779f23",
            "7655b00da6704e4fb9a9cce2620a1846",
            "7055f30d27104389a6b8b16749d37e37",
            "6315873d24e04678b17c81983ad30014",
            "5f6e19264bd646f280cea0af3fe35c7c",
            "83a194a4f68a438aaa396e136188b795",
            "bb514e1cf37646f3a58932dde25ca293",
            "0a8373d83e6b4306bbff4b2c83708912",
            "dd92c19aaaf842af99e954a1a1aed13e",
            "5233b9cde8bd4f4dad7a6f93febbe1ab",
            "827afd10d48d4947853e710bd7e51025",
            "292c3ebdb827480aa75756966be91959",
            "1d095e070192437a98ab4cf85032ad5d",
            "b0a9c6e996d34269b3e33028c69d1917",
            "56eea524b6064ac9baaff3a3ef51a59c",
            "d5e40d854cc648f096ff66e0aa19efbc",
            "2cc0af8a9c5a44a5a254c3264f578406",
            "aedbbca25de1474fb5288e9e4c8116ed",
            "0a72d2d06c294552997500f264fdd017",
            "0c91fa5c1e534ff69f9666afe33b03d2",
            "85204c54694944a280f05cb34fb3e7fa",
            "2a0fef2cee4f4cdc8b55cee9aa147421",
            "8a550c5d262e490a88b0b69241f72e8c",
            "d8afd841f1b240f19343ec8dfd5aa054",
            "3d0627dcb7864eccbb7ee6e9f1eb045f",
            "e243e7a68fa94b3ca55f16817967f101",
            "4c78204ff1cc4dc5b053c115c9173d6a",
            "1c82d887513342b8851aa8e21165c421",
            "504ee5e2ff79473cbb21758c84a1cd59",
            "dd04d154288c4052afbb2789e32f42ab",
            "832724f654804ae9a3ba80568d0562b1",
            "feb93385bdc545679f0d6f59fec24a8f",
            "5c06d000d4284287b19e4bb0b3fa0fa5",
            "1f49993ae38f46d5b630e1e0ea0fd510",
            "861dc6037e4d42e9b9636cfc12f5b4c2",
            "ed739418e38b45ff85215c9dc05f98e7",
            "215a4c69dda54f1c9342dadfa09039df",
            "0a0bf204d3984f708eedf6a3cfb9e82f",
            "362c0cc50a8c4c72a056a1f0896bec19",
            "cd6aa66e60994b79b7b37c0141c2dc66",
            "fa7033a0469a489a98d36fb30c6d3036",
            "a7da7f3d6c974c128f84ab1913e09d7b",
            "ab62f98a419342469ec3c235b4ad317a",
            "3e3d93610f7d4ab0b51d45e96e9f6efa",
            "d5aca0f22aa1453187f08725f79eb6f6",
            "c5294304618b4f15b72d50d7d39236d5",
            "72b0cbd78cbe4cc88e50f8f33a9ed085",
            "8490d9ef15304d2b9343c6441c40a661",
            "80ebaced2ab5488aad65e5a426461f12",
            "e1e46698e7054bb381f10acfa89d538a",
            "442506bef7374e159785048ab52a5813",
            "ececa464128e4f848c85dc8685e14609",
            "8e466ff764354682ace0da093705c518",
            "91369fa4f3f54e18b13b9ac2fe5abaef",
            "a33a25a719b6487e812a3758e54dca74",
            "6fed8752176d46b0b6546fda4ea35353",
            "9e3e408bd60b4bdd9f8739aa41b62ee5"
          ]
        },
        "execution": {
          "iopub.execute_input": "2022-03-13T23:56:07.592870Z",
          "iopub.status.busy": "2022-03-13T23:56:07.592483Z",
          "iopub.status.idle": "2022-03-13T23:56:09.572600Z",
          "shell.execute_reply": "2022-03-13T23:56:09.572059Z",
          "shell.execute_reply.started": "2022-03-13T23:56:07.592837Z"
        },
        "id": "1b2--feceLEZ",
        "outputId": "f1fbed98-302e-45a1-eab1-d6c2dd4b5c76",
        "tags": []
      },
      "outputs": [
        {
          "name": "stdout",
          "output_type": "stream",
          "text": [
            "{'LB': 0, 'IQ': 1, 'QA': 2, 'JO': 3, 'OM': 4, 'BH': 5, 'AE': 6, 'SA': 7, 'YE': 8, 'MA': 9, 'EG': 10, 'SY': 11, 'PL': 12, 'LY': 13, 'TN': 14, 'DZ': 15, 'KW': 16, 'SD': 17}\n"
          ]
        },
        {
          "data": {
            "application/vnd.jupyter.widget-view+json": {
              "model_id": "8e466ff764354682ace0da093705c518",
              "version_major": 2,
              "version_minor": 0
            },
            "text/plain": [
              "Downloading:   0%|          | 0.00/667 [00:00<?, ?B/s]"
            ]
          },
          "metadata": {},
          "output_type": "display_data"
        },
        {
          "data": {
            "application/vnd.jupyter.widget-view+json": {
              "model_id": "91369fa4f3f54e18b13b9ac2fe5abaef",
              "version_major": 2,
              "version_minor": 0
            },
            "text/plain": [
              "Downloading:   0%|          | 0.00/751k [00:00<?, ?B/s]"
            ]
          },
          "metadata": {},
          "output_type": "display_data"
        },
        {
          "data": {
            "application/vnd.jupyter.widget-view+json": {
              "model_id": "a33a25a719b6487e812a3758e54dca74",
              "version_major": 2,
              "version_minor": 0
            },
            "text/plain": [
              "Downloading:   0%|          | 0.00/1.25M [00:00<?, ?B/s]"
            ]
          },
          "metadata": {},
          "output_type": "display_data"
        },
        {
          "data": {
            "application/vnd.jupyter.widget-view+json": {
              "model_id": "6fed8752176d46b0b6546fda4ea35353",
              "version_major": 2,
              "version_minor": 0
            },
            "text/plain": [
              "Downloading:   0%|          | 0.00/112 [00:00<?, ?B/s]"
            ]
          },
          "metadata": {},
          "output_type": "display_data"
        },
        {
          "data": {
            "application/vnd.jupyter.widget-view+json": {
              "model_id": "9e3e408bd60b4bdd9f8739aa41b62ee5",
              "version_major": 2,
              "version_minor": 0
            },
            "text/plain": [
              "Downloading:   0%|          | 0.00/476 [00:00<?, ?B/s]"
            ]
          },
          "metadata": {},
          "output_type": "display_data"
        }
      ],
      "source": [
        "label_map = { v:index for index, v in enumerate(selected_dataset.label_list) }\n",
        "print(label_map)\n",
        "train_dataset = BERTDataset(selected_dataset.train[DATA_COLUMN].to_list(),selected_dataset.train[LABEL_COLUMN].to_list(),model_name,max_len,label_map)\n",
        "test_dataset = BERTDataset(selected_dataset.test[DATA_COLUMN].to_list(),selected_dataset.test[LABEL_COLUMN].to_list(),model_name,max_len,label_map)"
      ]
    },
    {
      "cell_type": "code",
      "execution_count": null,
      "metadata": {
        "execution": {
          "iopub.execute_input": "2022-03-13T23:56:09.575340Z",
          "iopub.status.busy": "2022-03-13T23:56:09.573731Z",
          "iopub.status.idle": "2022-03-13T23:56:09.578787Z",
          "shell.execute_reply": "2022-03-13T23:56:09.578254Z",
          "shell.execute_reply.started": "2022-03-13T23:56:09.575318Z"
        },
        "id": "lt7l0IxjbmNu",
        "tags": []
      },
      "outputs": [],
      "source": [
        "def model_init():\n",
        "    return AutoModelForSequenceClassification.from_pretrained(model_name, return_dict=True, num_labels=len(label_map))"
      ]
    },
    {
      "cell_type": "code",
      "execution_count": null,
      "metadata": {
        "execution": {
          "iopub.execute_input": "2022-03-13T23:56:09.579809Z",
          "iopub.status.busy": "2022-03-13T23:56:09.579600Z",
          "iopub.status.idle": "2022-03-13T23:56:09.585129Z",
          "shell.execute_reply": "2022-03-13T23:56:09.584520Z",
          "shell.execute_reply.started": "2022-03-13T23:56:09.579790Z"
        },
        "id": "UYU6G4vWc5nz",
        "tags": []
      },
      "outputs": [],
      "source": [
        "def compute_metrics(p): #p should be of type EvalPrediction\n",
        "  preds = np.argmax(p.predictions, axis=1)\n",
        "  assert len(preds) == len(p.label_ids)\n",
        "  #print(classification_report(p.label_ids,preds))\n",
        "  #print(confusion_matrix(p.label_ids,preds))\n",
        "\n",
        "  macro_f1_pos_neg = f1_score(p.label_ids,preds,average='macro',labels=[0,1])\n",
        "  macro_f1 = f1_score(p.label_ids,preds,average='macro')\n",
        "  macro_precision = precision_score(p.label_ids,preds,average='macro')\n",
        "  macro_recall = recall_score(p.label_ids,preds,average='macro')\n",
        "  acc = accuracy_score(p.label_ids,preds)\n",
        "  return {\n",
        "      'macro_f1' : macro_f1,\n",
        "      'macro_f1_pos_neg' : macro_f1_pos_neg,  \n",
        "      'macro_precision': macro_precision,\n",
        "      'macro_recall': macro_recall,\n",
        "      'accuracy': acc\n",
        "  }"
      ]
    },
    {
      "cell_type": "code",
      "execution_count": null,
      "metadata": {
        "colab": {
          "base_uri": "https://localhost:8080/"
        },
        "execution": {
          "iopub.execute_input": "2022-03-14T01:20:08.472339Z",
          "iopub.status.busy": "2022-03-14T01:20:08.472001Z",
          "iopub.status.idle": "2022-03-14T01:20:08.479579Z",
          "shell.execute_reply": "2022-03-14T01:20:08.478946Z",
          "shell.execute_reply.started": "2022-03-14T01:20:08.472314Z"
        },
        "id": "u9xjs-X14uc0",
        "outputId": "44138f04-6353-4685-8f7f-c65ecbeaff97",
        "tags": []
      },
      "outputs": [
        {
          "name": "stdout",
          "output_type": "stream",
          "text": [
            "1280\n",
            "5120\n"
          ]
        }
      ],
      "source": [
        "training_args = TrainingArguments(\"./train\")\n",
        "training_args.evaluate_during_training = True\n",
        "training_args.adam_epsilon = 1e-8\n",
        "training_args.learning_rate = 5e-5\n",
        "training_args.fp16 = True\n",
        "training_args.per_device_train_batch_size = 60\n",
        "training_args.per_device_eval_batch_size = 60\n",
        "training_args.gradient_accumulation_steps = 2\n",
        "training_args.num_train_epochs= 6\n",
        "\n",
        "\n",
        "# steps_per_epoch = (len(selected_dataset.train)// (training_args.per_device_train_batch_size * training_args.gradient_accumulation_steps))\n",
        "# total_steps = steps_per_epoch * training_args.num_train_epochs\n",
        "steps_per_epoch = 1280\n",
        "total_steps = 1280*4\n",
        "print(steps_per_epoch)\n",
        "print(total_steps)\n",
        "#Warmup_ratio\n",
        "warmup_ratio = 0.1\n",
        "training_args.warmup_steps = total_steps*warmup_ratio # or you can set the warmup steps directly \n",
        "\n",
        "training_args.evaluation_strategy = EvaluationStrategy.EPOCH\n",
        "# training_args.logging_steps = 200\n",
        "training_args.save_steps = 100000 #don't want to save any model, there is probably a better way to do this :)\n",
        "training_args.seed = 42\n",
        "training_args.disable_tqdm = False\n",
        "training_args.lr_scheduler_type = 'cosine'\n",
        "training_args.report_to=\"wandb\""
      ]
    },
    {
      "cell_type": "code",
      "execution_count": null,
      "metadata": {
        "execution": {
          "iopub.execute_input": "2022-03-13T23:59:52.115879Z",
          "iopub.status.busy": "2022-03-13T23:59:52.115589Z",
          "iopub.status.idle": "2022-03-13T23:59:57.659111Z",
          "shell.execute_reply": "2022-03-13T23:59:57.658541Z",
          "shell.execute_reply.started": "2022-03-13T23:59:52.115853Z"
        },
        "tags": [],
        "id": "kKGC5kGYx5_G",
        "outputId": "8191c182-24d9-46d5-87eb-61563cba0c37"
      },
      "outputs": [
        {
          "name": "stdout",
          "output_type": "stream",
          "text": [
            "Collecting wandb\n",
            "  Using cached wandb-0.12.11-py2.py3-none-any.whl (1.7 MB)\n",
            "Requirement already satisfied: python-dateutil>=2.6.1 in /opt/conda/envs/saturn/lib/python3.9/site-packages (from wandb) (2.8.2)\n",
            "Collecting GitPython>=1.0.0\n",
            "  Using cached GitPython-3.1.27-py3-none-any.whl (181 kB)\n",
            "Requirement already satisfied: docker-pycreds>=0.4.0 in /opt/conda/envs/saturn/lib/python3.9/site-packages (from wandb) (0.4.0)\n",
            "Requirement already satisfied: six>=1.13.0 in /opt/conda/envs/saturn/lib/python3.9/site-packages (from wandb) (1.16.0)\n",
            "Collecting yaspin>=1.0.0\n",
            "  Using cached yaspin-2.1.0-py3-none-any.whl (18 kB)\n",
            "Collecting sentry-sdk>=1.0.0\n",
            "  Using cached sentry_sdk-1.5.7-py2.py3-none-any.whl (144 kB)\n",
            "Requirement already satisfied: PyYAML in /opt/conda/envs/saturn/lib/python3.9/site-packages (from wandb) (6.0)\n",
            "Requirement already satisfied: Click!=8.0.0,>=7.0 in /opt/conda/envs/saturn/lib/python3.9/site-packages (from wandb) (8.0.3)\n",
            "Collecting setproctitle\n",
            "  Using cached setproctitle-1.2.2-cp39-cp39-manylinux1_x86_64.whl (35 kB)\n",
            "Collecting promise<3,>=2.0\n",
            "  Using cached promise-2.3-py3-none-any.whl\n",
            "Requirement already satisfied: protobuf>=3.12.0 in /opt/conda/envs/saturn/lib/python3.9/site-packages (from wandb) (3.15.8)\n",
            "Requirement already satisfied: requests<3,>=2.0.0 in /opt/conda/envs/saturn/lib/python3.9/site-packages (from wandb) (2.27.1)\n",
            "Requirement already satisfied: psutil>=5.0.0 in /opt/conda/envs/saturn/lib/python3.9/site-packages (from wandb) (5.8.0)\n",
            "Collecting pathtools\n",
            "  Using cached pathtools-0.1.2-py3-none-any.whl\n",
            "Collecting shortuuid>=0.5.0\n",
            "  Using cached shortuuid-1.0.8-py3-none-any.whl (9.5 kB)\n",
            "Collecting gitdb<5,>=4.0.1\n",
            "  Using cached gitdb-4.0.9-py3-none-any.whl (63 kB)\n",
            "Collecting smmap<6,>=3.0.1\n",
            "  Using cached smmap-5.0.0-py3-none-any.whl (24 kB)\n",
            "Requirement already satisfied: urllib3<1.27,>=1.21.1 in /opt/conda/envs/saturn/lib/python3.9/site-packages (from requests<3,>=2.0.0->wandb) (1.26.7)\n",
            "Requirement already satisfied: certifi>=2017.4.17 in /opt/conda/envs/saturn/lib/python3.9/site-packages (from requests<3,>=2.0.0->wandb) (2021.10.8)\n",
            "Requirement already satisfied: idna<4,>=2.5 in /opt/conda/envs/saturn/lib/python3.9/site-packages (from requests<3,>=2.0.0->wandb) (3.3)\n",
            "Requirement already satisfied: charset-normalizer~=2.0.0 in /opt/conda/envs/saturn/lib/python3.9/site-packages (from requests<3,>=2.0.0->wandb) (2.0.4)\n",
            "Collecting termcolor<2.0.0,>=1.1.0\n",
            "  Using cached termcolor-1.1.0-py3-none-any.whl\n",
            "Installing collected packages: smmap, termcolor, gitdb, yaspin, shortuuid, setproctitle, sentry-sdk, promise, pathtools, GitPython, wandb\n",
            "Successfully installed GitPython-3.1.27 gitdb-4.0.9 pathtools-0.1.2 promise-2.3 sentry-sdk-1.5.7 setproctitle-1.2.2 shortuuid-1.0.8 smmap-5.0.0 termcolor-1.1.0 wandb-0.12.11 yaspin-2.1.0\n"
          ]
        },
        {
          "name": "stderr",
          "output_type": "stream",
          "text": [
            "ERROR:wandb.jupyter:Failed to detect the name of this notebook, you can set it manually with the WANDB_NOTEBOOK_NAME environment variable to enable code saving.\n",
            "\u001b[34m\u001b[1mwandb\u001b[0m: Currently logged in as: \u001b[33meslamahmed235\u001b[0m (use `wandb login --relogin` to force relogin)\n"
          ]
        },
        {
          "data": {
            "text/plain": [
              "True"
            ]
          },
          "execution_count": 24,
          "metadata": {},
          "output_type": "execute_result"
        }
      ],
      "source": [
        "!pip install wandb\n",
        "\n",
        "import wandb\n",
        "wandb.login()"
      ]
    },
    {
      "cell_type": "code",
      "execution_count": null,
      "metadata": {
        "colab": {
          "base_uri": "https://localhost:8080/"
        },
        "execution": {
          "iopub.execute_input": "2022-03-14T01:20:13.265614Z",
          "iopub.status.busy": "2022-03-14T01:20:13.265278Z",
          "iopub.status.idle": "2022-03-14T01:20:16.687280Z",
          "shell.execute_reply": "2022-03-14T01:20:16.686705Z",
          "shell.execute_reply.started": "2022-03-14T01:20:13.265575Z"
        },
        "id": "Ro5BW5ak4uc1",
        "outputId": "4d65d7a3-6d5a-4d93-d922-d8a6745f4ca7",
        "tags": []
      },
      "outputs": [
        {
          "name": "stderr",
          "output_type": "stream",
          "text": [
            "Some weights of the model checkpoint at aubmindlab/bert-base-arabertv02-twitter were not used when initializing BertForSequenceClassification: ['cls.predictions.bias', 'cls.predictions.transform.dense.weight', 'cls.predictions.transform.dense.bias', 'cls.predictions.transform.LayerNorm.weight', 'cls.predictions.transform.LayerNorm.bias', 'cls.predictions.decoder.weight', 'cls.predictions.decoder.bias']\n",
            "- This IS expected if you are initializing BertForSequenceClassification from the checkpoint of a model trained on another task or with another architecture (e.g. initializing a BertForSequenceClassification model from a BertForPreTraining model).\n",
            "- This IS NOT expected if you are initializing BertForSequenceClassification from the checkpoint of a model that you expect to be exactly identical (initializing a BertForSequenceClassification model from a BertForSequenceClassification model).\n",
            "Some weights of BertForSequenceClassification were not initialized from the model checkpoint at aubmindlab/bert-base-arabertv02-twitter and are newly initialized: ['bert.pooler.dense.weight', 'bert.pooler.dense.bias', 'classifier.weight', 'classifier.bias']\n",
            "You should probably TRAIN this model on a down-stream task to be able to use it for predictions and inference.\n"
          ]
        }
      ],
      "source": [
        "trainer = Trainer(\n",
        "    model = model_init(),\n",
        "    args = training_args,\n",
        "    train_dataset = train_dataset,\n",
        "    eval_dataset=test_dataset,\n",
        "    compute_metrics=compute_metrics,\n",
        ")\n"
      ]
    },
    {
      "cell_type": "code",
      "execution_count": null,
      "metadata": {
        "colab": {
          "base_uri": "https://localhost:8080/",
          "height": 75
        },
        "execution": {
          "iopub.execute_input": "2022-03-14T01:20:20.767924Z",
          "iopub.status.busy": "2022-03-14T01:20:20.767619Z",
          "iopub.status.idle": "2022-03-14T02:58:56.740631Z",
          "shell.execute_reply": "2022-03-14T02:58:56.739900Z",
          "shell.execute_reply.started": "2022-03-14T01:20:20.767901Z"
        },
        "id": "yx336O3J2SdQ",
        "outputId": "f76c44ec-b34c-4726-e472-1ed059e74f9c",
        "tags": []
      },
      "outputs": [
        {
          "data": {
            "text/html": [
              "\n",
              "    <div>\n",
              "        <style>\n",
              "            /* Turns off some styling */\n",
              "            progress {\n",
              "                /* gets rid of default border in Firefox and Opera. */\n",
              "                border: none;\n",
              "                /* Needs to be in here for Safari polyfill so background images work as expected. */\n",
              "                background-size: auto;\n",
              "            }\n",
              "        </style>\n",
              "      \n",
              "      <progress value='6660' max='6660' style='width:300px; height:20px; vertical-align: middle;'></progress>\n",
              "      [6660/6660 1:38:35, Epoch 6/6]\n",
              "    </div>\n",
              "    <table border=\"1\" class=\"dataframe\">\n",
              "  <thead>\n",
              "    <tr style=\"text-align: left;\">\n",
              "      <th>Epoch</th>\n",
              "      <th>Training Loss</th>\n",
              "      <th>Validation Loss</th>\n",
              "      <th>Macro F1</th>\n",
              "      <th>Macro F1 Pos Neg</th>\n",
              "      <th>Macro Precision</th>\n",
              "      <th>Macro Recall</th>\n",
              "      <th>Accuracy</th>\n",
              "      <th>Runtime</th>\n",
              "      <th>Samples Per Second</th>\n",
              "    </tr>\n",
              "  </thead>\n",
              "  <tbody>\n",
              "    <tr>\n",
              "      <td>1</td>\n",
              "      <td>1.624600</td>\n",
              "      <td>1.483234</td>\n",
              "      <td>0.529472</td>\n",
              "      <td>0.649244</td>\n",
              "      <td>0.556554</td>\n",
              "      <td>0.524729</td>\n",
              "      <td>0.526317</td>\n",
              "      <td>77.509900</td>\n",
              "      <td>429.442000</td>\n",
              "    </tr>\n",
              "    <tr>\n",
              "      <td>2</td>\n",
              "      <td>1.303800</td>\n",
              "      <td>1.349202</td>\n",
              "      <td>0.570292</td>\n",
              "      <td>0.672264</td>\n",
              "      <td>0.578369</td>\n",
              "      <td>0.573426</td>\n",
              "      <td>0.574446</td>\n",
              "      <td>80.320000</td>\n",
              "      <td>414.417000</td>\n",
              "    </tr>\n",
              "    <tr>\n",
              "      <td>3</td>\n",
              "      <td>0.999400</td>\n",
              "      <td>1.356075</td>\n",
              "      <td>0.587546</td>\n",
              "      <td>0.683260</td>\n",
              "      <td>0.593983</td>\n",
              "      <td>0.587313</td>\n",
              "      <td>0.588416</td>\n",
              "      <td>85.417800</td>\n",
              "      <td>389.685000</td>\n",
              "    </tr>\n",
              "    <tr>\n",
              "      <td>4</td>\n",
              "      <td>0.726700</td>\n",
              "      <td>1.420973</td>\n",
              "      <td>0.589963</td>\n",
              "      <td>0.681803</td>\n",
              "      <td>0.595919</td>\n",
              "      <td>0.588841</td>\n",
              "      <td>0.589467</td>\n",
              "      <td>79.538700</td>\n",
              "      <td>418.488000</td>\n",
              "    </tr>\n",
              "    <tr>\n",
              "      <td>5</td>\n",
              "      <td>0.540500</td>\n",
              "      <td>1.509404</td>\n",
              "      <td>0.591979</td>\n",
              "      <td>0.689093</td>\n",
              "      <td>0.596219</td>\n",
              "      <td>0.589954</td>\n",
              "      <td>0.590879</td>\n",
              "      <td>78.284100</td>\n",
              "      <td>425.195000</td>\n",
              "    </tr>\n",
              "    <tr>\n",
              "      <td>6</td>\n",
              "      <td>0.459800</td>\n",
              "      <td>1.545277</td>\n",
              "      <td>0.591478</td>\n",
              "      <td>0.688495</td>\n",
              "      <td>0.594880</td>\n",
              "      <td>0.589700</td>\n",
              "      <td>0.590579</td>\n",
              "      <td>78.114900</td>\n",
              "      <td>426.116000</td>\n",
              "    </tr>\n",
              "  </tbody>\n",
              "</table><p>"
            ],
            "text/plain": [
              "<IPython.core.display.HTML object>"
            ]
          },
          "metadata": {},
          "output_type": "display_data"
        },
        {
          "name": "stderr",
          "output_type": "stream",
          "text": [
            "/srv/conda/envs/saturn/lib/python3.9/site-packages/transformers/trainer.py:909: FutureWarning: Non-finite norm encountered in torch.nn.utils.clip_grad_norm_; continuing anyway. Note that the default behavior will change in a future release to error out if a non-finite total norm is encountered. At that point, setting error_if_nonfinite=false will be required to retain the old behavior.\n",
            "  torch.nn.utils.clip_grad_norm_(\n",
            "/srv/conda/envs/saturn/lib/python3.9/site-packages/transformers/trainer.py:909: FutureWarning: Non-finite norm encountered in torch.nn.utils.clip_grad_norm_; continuing anyway. Note that the default behavior will change in a future release to error out if a non-finite total norm is encountered. At that point, setting error_if_nonfinite=false will be required to retain the old behavior.\n",
            "  torch.nn.utils.clip_grad_norm_(\n"
          ]
        },
        {
          "data": {
            "text/plain": [
              "TrainOutput(global_step=6660, training_loss=0.9802258167896901, metrics={'train_runtime': 5915.9609, 'train_samples_per_second': 1.126, 'total_flos': 82952087769962496, 'epoch': 6.0})"
            ]
          },
          "execution_count": 35,
          "metadata": {},
          "output_type": "execute_result"
        }
      ],
      "source": [
        "trainer.train()"
      ]
    },
    {
      "cell_type": "code",
      "execution_count": null,
      "metadata": {
        "id": "yzakDUbHx5_I"
      },
      "outputs": [],
      "source": [
        "wandb.finish()"
      ]
    },
    {
      "cell_type": "code",
      "execution_count": null,
      "metadata": {
        "execution": {
          "iopub.execute_input": "2022-03-14T03:02:01.824680Z",
          "iopub.status.busy": "2022-03-14T03:02:01.824368Z",
          "iopub.status.idle": "2022-03-14T03:02:02.800117Z",
          "shell.execute_reply": "2022-03-14T03:02:02.799531Z",
          "shell.execute_reply.started": "2022-03-14T03:02:01.824653Z"
        },
        "id": "Seyz8Yaj2ZCK",
        "tags": []
      },
      "outputs": [],
      "source": [
        "trainer.save_model(\"../workspace/SOME_PATH V1 plus\")"
      ]
    },
    {
      "cell_type": "code",
      "execution_count": null,
      "metadata": {
        "execution": {
          "iopub.execute_input": "2022-03-14T03:39:59.367172Z",
          "iopub.status.busy": "2022-03-14T03:39:59.366836Z",
          "iopub.status.idle": "2022-03-14T03:40:03.426150Z",
          "shell.execute_reply": "2022-03-14T03:40:03.425438Z",
          "shell.execute_reply.started": "2022-03-14T03:39:59.367146Z"
        },
        "tags": [],
        "id": "Wxk7K0sIx5_I",
        "outputId": "1e782f26-9495-4bbe-883e-5c4655cca07d"
      },
      "outputs": [
        {
          "name": "stdout",
          "output_type": "stream",
          "text": [
            "{0: 'LB', 1: 'IQ', 2: 'QA', 3: 'JO', 4: 'OM', 5: 'BH', 6: 'AE', 7: 'SA', 8: 'YE', 9: 'MA', 10: 'EG', 11: 'SY', 12: 'PL', 13: 'LY', 14: 'TN', 15: 'DZ', 16: 'KW', 17: 'SD'}\n"
          ]
        },
        {
          "data": {
            "text/plain": [
              "('output_dir/tokenizer_config.json',\n",
              " 'output_dir/special_tokens_map.json',\n",
              " 'output_dir/vocab.txt',\n",
              " 'output_dir/added_tokens.json')"
            ]
          },
          "execution_count": 61,
          "metadata": {},
          "output_type": "execute_result"
        }
      ],
      "source": [
        "inv_label_map = inv_label_map = { v:k for k, v in label_map.items()}\n",
        "print(inv_label_map)\n",
        "trainer.model.config.label2id = label_map\n",
        "trainer.model.config.id2label = inv_label_map\n",
        "trainer.save_model(\"output_dir\")\n",
        "train_dataset.tokenizer.save_pretrained(\"output_dir\")"
      ]
    },
    {
      "cell_type": "code",
      "execution_count": null,
      "metadata": {
        "execution": {
          "iopub.execute_input": "2022-03-14T03:02:12.344574Z",
          "iopub.status.busy": "2022-03-14T03:02:12.344250Z",
          "iopub.status.idle": "2022-03-14T03:02:18.250395Z",
          "shell.execute_reply": "2022-03-14T03:02:18.249746Z",
          "shell.execute_reply.started": "2022-03-14T03:02:12.344548Z"
        },
        "tags": [],
        "id": "B6PF3pEJx5_J",
        "outputId": "f34d9caa-e77d-403b-aac3-3eab18166275"
      },
      "outputs": [
        {
          "data": {
            "text/plain": [
              "[[{'label': 'LB', 'score': 0.03208979591727257},\n",
              "  {'label': 'IQ', 'score': 0.04240100085735321},\n",
              "  {'label': 'QA', 'score': 0.005505440291017294},\n",
              "  {'label': 'JO', 'score': 0.16331861913204193},\n",
              "  {'label': 'OM', 'score': 0.06898097693920135},\n",
              "  {'label': 'BH', 'score': 0.034855976700782776},\n",
              "  {'label': 'AE', 'score': 0.010003561154007912},\n",
              "  {'label': 'SA', 'score': 0.021417370066046715},\n",
              "  {'label': 'YE', 'score': 0.02232947386801243},\n",
              "  {'label': 'MA', 'score': 0.01661420240998268},\n",
              "  {'label': 'EG', 'score': 0.009010673500597477},\n",
              "  {'label': 'SY', 'score': 0.03955796733498573},\n",
              "  {'label': 'PL', 'score': 0.07749201357364655},\n",
              "  {'label': 'LY', 'score': 0.0021434216760098934},\n",
              "  {'label': 'TN', 'score': 0.059439096599817276},\n",
              "  {'label': 'DZ', 'score': 0.00865254644304514},\n",
              "  {'label': 'KW', 'score': 0.01682225801050663},\n",
              "  {'label': 'SD', 'score': 0.3693655729293823}]]"
            ]
          },
          "execution_count": 38,
          "metadata": {},
          "output_type": "execute_result"
        }
      ],
      "source": [
        "from transformers import pipeline\n",
        "# initialize pipline\n",
        "pipe = pipeline(\"sentiment-analysis\", model=\"output_dir\", device=0, return_all_scores=True)\n",
        "pipe(\"Some Text\")"
      ]
    },
    {
      "cell_type": "code",
      "execution_count": null,
      "metadata": {
        "execution": {
          "iopub.execute_input": "2022-03-14T03:02:18.251802Z",
          "iopub.status.busy": "2022-03-14T03:02:18.251535Z",
          "iopub.status.idle": "2022-03-14T03:02:18.255256Z",
          "shell.execute_reply": "2022-03-14T03:02:18.254725Z",
          "shell.execute_reply.started": "2022-03-14T03:02:18.251781Z"
        },
        "tags": [],
        "id": "u42sworEx5_J"
      },
      "outputs": [],
      "source": [
        "# do kfold on the training. Check the perfomance on the test set\n",
        "kfold_dataset = selected_dataset.train\n",
        "# do kfold on all the dataset. Here we will not have any dataset to checl final performance on (this is used mainly in competitions)\n",
        "# kfold_dataset = pd.concat([selected_dataset.train,selected_dataset.test])\n",
        "kfold_dataset.reset_index(inplace=True,drop=True)"
      ]
    },
    {
      "cell_type": "code",
      "execution_count": null,
      "metadata": {
        "execution": {
          "iopub.execute_input": "2022-03-14T03:02:18.256242Z",
          "iopub.status.busy": "2022-03-14T03:02:18.256036Z",
          "iopub.status.idle": "2022-03-14T03:02:18.260941Z",
          "shell.execute_reply": "2022-03-14T03:02:18.260415Z",
          "shell.execute_reply.started": "2022-03-14T03:02:18.256221Z"
        },
        "tags": [],
        "id": "Bro8xyw0x5_K"
      },
      "outputs": [],
      "source": [
        "inv_label_map = { v:k for k, v in label_map.items()}"
      ]
    },
    {
      "cell_type": "code",
      "execution_count": null,
      "metadata": {
        "execution": {
          "iopub.execute_input": "2022-03-14T03:02:19.180638Z",
          "iopub.status.busy": "2022-03-14T03:02:19.180332Z",
          "iopub.status.idle": "2022-03-14T03:02:19.183957Z",
          "shell.execute_reply": "2022-03-14T03:02:19.183381Z",
          "shell.execute_reply.started": "2022-03-14T03:02:19.180613Z"
        },
        "tags": [],
        "id": "Nus3jnI9x5_K"
      },
      "outputs": [],
      "source": [
        "from sklearn.model_selection import StratifiedKFold\n",
        "\n",
        "kf = StratifiedKFold(\n",
        "    n_splits=5,\n",
        "    shuffle=True,\n",
        "    random_state=123\n",
        "  )"
      ]
    },
    {
      "cell_type": "code",
      "execution_count": null,
      "metadata": {
        "execution": {
          "iopub.execute_input": "2022-03-14T03:02:20.043626Z",
          "iopub.status.busy": "2022-03-14T03:02:20.043311Z",
          "iopub.status.idle": "2022-03-14T03:02:20.048517Z",
          "shell.execute_reply": "2022-03-14T03:02:20.047563Z",
          "shell.execute_reply.started": "2022-03-14T03:02:20.043600Z"
        },
        "tags": [],
        "id": "nLO0N2vlx5_L"
      },
      "outputs": [],
      "source": [
        "pred_df = selected_dataset.test[DATA_COLUMN]"
      ]
    },
    {
      "cell_type": "code",
      "execution_count": null,
      "metadata": {
        "execution": {
          "iopub.execute_input": "2022-03-14T04:16:32.994066Z",
          "iopub.status.busy": "2022-03-14T04:16:32.993748Z",
          "iopub.status.idle": "2022-03-14T04:16:38.477603Z",
          "shell.execute_reply": "2022-03-14T04:16:38.476944Z",
          "shell.execute_reply.started": "2022-03-14T04:16:32.994042Z"
        },
        "tags": [],
        "id": "Aoco-XR1x5_L",
        "outputId": "4808b9af-91b1-427a-9336-cbc525d51bac"
      },
      "outputs": [
        {
          "data": {
            "text/plain": [
              "[{'label': 'YE', 'score': 0.25424277782440186}]"
            ]
          },
          "execution_count": 74,
          "metadata": {},
          "output_type": "execute_result"
        }
      ],
      "source": [
        "pipe = pipeline(\"sentiment-analysis\", model=f\"output_dir\", device=0, return_all_scores =False) #,  max_length=max_len , truncation=True\n",
        "\n",
        "type(pred_df)\n",
        "pipe(\"عليكم السلام \")"
      ]
    },
    {
      "cell_type": "code",
      "execution_count": null,
      "metadata": {
        "execution": {
          "iopub.execute_input": "2022-03-14T03:17:14.732978Z",
          "iopub.status.busy": "2022-03-14T03:17:14.732650Z",
          "iopub.status.idle": "2022-03-14T03:28:12.985552Z",
          "shell.execute_reply": "2022-03-14T03:28:12.984742Z",
          "shell.execute_reply.started": "2022-03-14T03:17:14.732952Z"
        },
        "tags": [],
        "colab": {
          "referenced_widgets": [
            "88ce3d13e7d945378bbf9a6e8e2efd2d",
            "d034d93733624766a8487b8dc99727d5",
            "79c4a0b577cb4c98a53b654097289eab",
            "85107831638e4ddbaac61e63561fcc6d",
            "37768d92aaf6423dafefda9f695269ca"
          ]
        },
        "id": "f3bPVW7-x5_M",
        "outputId": "4062a2cb-00e1-40d6-d260-d47aa04244c0"
      },
      "outputs": [
        {
          "name": "stdout",
          "output_type": "stream",
          "text": [
            "huggingface/tokenizers: The current process just got forked, after parallelism has already been used. Disabling parallelism to avoid deadlocks...\n",
            "To disable this warning, you can either:\n",
            "\t- Avoid using `tokenizers` before the fork if possible\n",
            "\t- Explicitly set the environment variable TOKENIZERS_PARALLELISM=(true | false)\n",
            "Requirement already satisfied: more-itertools in /opt/conda/envs/saturn/lib/python3.9/site-packages (8.12.0)\n"
          ]
        },
        {
          "name": "stderr",
          "output_type": "stream",
          "text": [
            "/tmp/ipykernel_160/3449918797.py:9: TqdmDeprecationWarning: This function will be removed in tqdm==5.0.0\n",
            "Please use `tqdm.notebook.tqdm` instead of `tqdm.tqdm_notebook`\n",
            "  for s in tqdm(more_itertools.chunked(list(pred_df), 32)): # batching for faster inference\n"
          ]
        },
        {
          "data": {
            "application/vnd.jupyter.widget-view+json": {
              "model_id": "88ce3d13e7d945378bbf9a6e8e2efd2d",
              "version_major": 2,
              "version_minor": 0
            },
            "text/plain": [
              "0it [00:00, ?it/s]"
            ]
          },
          "metadata": {},
          "output_type": "display_data"
        },
        {
          "data": {
            "application/vnd.jupyter.widget-view+json": {
              "model_id": "d034d93733624766a8487b8dc99727d5",
              "version_major": 2,
              "version_minor": 0
            },
            "text/plain": [
              "0it [00:00, ?it/s]"
            ]
          },
          "metadata": {},
          "output_type": "display_data"
        },
        {
          "data": {
            "application/vnd.jupyter.widget-view+json": {
              "model_id": "79c4a0b577cb4c98a53b654097289eab",
              "version_major": 2,
              "version_minor": 0
            },
            "text/plain": [
              "0it [00:00, ?it/s]"
            ]
          },
          "metadata": {},
          "output_type": "display_data"
        },
        {
          "data": {
            "application/vnd.jupyter.widget-view+json": {
              "model_id": "85107831638e4ddbaac61e63561fcc6d",
              "version_major": 2,
              "version_minor": 0
            },
            "text/plain": [
              "0it [00:00, ?it/s]"
            ]
          },
          "metadata": {},
          "output_type": "display_data"
        },
        {
          "data": {
            "application/vnd.jupyter.widget-view+json": {
              "model_id": "37768d92aaf6423dafefda9f695269ca",
              "version_major": 2,
              "version_minor": 0
            },
            "text/plain": [
              "0it [00:00, ?it/s]"
            ]
          },
          "metadata": {},
          "output_type": "display_data"
        }
      ],
      "source": [
        "!pip install more-itertools\n",
        "\n",
        "import more_itertools\n",
        "max_len = 128\n",
        "cross_val_df = pd.DataFrame([])\n",
        "for i in range(0,5):\n",
        "  pipe = pipeline(\"sentiment-analysis\", model=f\"output_dir\", device=0, return_all_scores =True) #,  max_length=max_len , truncation=True\n",
        "  preds = []\n",
        "  for s in tqdm(more_itertools.chunked(list(pred_df), 32)): # batching for faster inference\n",
        "    preds.extend(pipe(s))\n",
        "  cross_val_df[f'output_dir'] = preds"
      ]
    },
    {
      "cell_type": "code",
      "execution_count": null,
      "metadata": {
        "execution": {
          "iopub.execute_input": "2022-03-14T03:28:12.987216Z",
          "iopub.status.busy": "2022-03-14T03:28:12.986944Z",
          "iopub.status.idle": "2022-03-14T03:28:14.727648Z",
          "shell.execute_reply": "2022-03-14T03:28:14.727079Z",
          "shell.execute_reply.started": "2022-03-14T03:28:12.987193Z"
        },
        "tags": [],
        "id": "rzoNV_P_x5_N"
      },
      "outputs": [],
      "source": [
        "from collections import defaultdict\n",
        "\n",
        "final_labels = []\n",
        "final_scores = []\n",
        "for id, row in cross_val_df.iterrows():\n",
        "  total_score = defaultdict(lambda: 0)  \n",
        "  for pred in row:\n",
        "    for cls in pred:\n",
        "      total_score[cls['label']] += cls['score']\n",
        "\n",
        "  avg_score = { k: v/ 5 for k, v in total_score.items()}\n",
        "\n",
        "  final_labels.append(max(avg_score, key=avg_score.get))\n",
        "  final_scores.append(avg_score[max(avg_score, key=avg_score.get)])"
      ]
    },
    {
      "cell_type": "code",
      "execution_count": null,
      "metadata": {
        "execution": {
          "iopub.execute_input": "2022-03-14T03:28:14.729621Z",
          "iopub.status.busy": "2022-03-14T03:28:14.728523Z",
          "iopub.status.idle": "2022-03-14T03:28:14.733875Z",
          "shell.execute_reply": "2022-03-14T03:28:14.733322Z",
          "shell.execute_reply.started": "2022-03-14T03:28:14.729593Z"
        },
        "tags": [],
        "id": "jOOxjkl-x5_N",
        "outputId": "363d4c56-8100-4c5d-8747-fff1af672b43"
      },
      "outputs": [
        {
          "data": {
            "text/plain": [
              "{'label': 'SD', 'score': 6.196613685460761e-05}"
            ]
          },
          "execution_count": 55,
          "metadata": {},
          "output_type": "execute_result"
        }
      ],
      "source": [
        "cls"
      ]
    },
    {
      "cell_type": "code",
      "execution_count": null,
      "metadata": {
        "execution": {
          "iopub.execute_input": "2022-03-14T03:28:14.735158Z",
          "iopub.status.busy": "2022-03-14T03:28:14.734941Z",
          "iopub.status.idle": "2022-03-14T03:28:14.744025Z",
          "shell.execute_reply": "2022-03-14T03:28:14.743510Z",
          "shell.execute_reply.started": "2022-03-14T03:28:14.735137Z"
        },
        "tags": [],
        "id": "zn3Ggs9Wx5_O"
      },
      "outputs": [],
      "source": [
        "cross_val_df['preds'] = final_labels \n",
        "cross_val_df['sentiment_score'] = final_scores "
      ]
    },
    {
      "cell_type": "code",
      "execution_count": null,
      "metadata": {
        "execution": {
          "iopub.execute_input": "2022-03-14T03:30:51.828304Z",
          "iopub.status.busy": "2022-03-14T03:30:51.827947Z",
          "iopub.status.idle": "2022-03-14T03:30:51.837729Z",
          "shell.execute_reply": "2022-03-14T03:30:51.837142Z",
          "shell.execute_reply.started": "2022-03-14T03:30:51.828276Z"
        },
        "tags": [],
        "id": "RSUxv04ox5_P",
        "outputId": "f34023b6-9133-42f6-d6f6-4f4b02e67af3"
      },
      "outputs": [
        {
          "data": {
            "text/plain": [
              "YE    2081\n",
              "EG    2032\n",
              "OM    1971\n",
              "QA    1965\n",
              "SA    1956\n",
              "PL    1948\n",
              "AE    1948\n",
              "BH    1939\n",
              "JO    1842\n",
              "DZ    1836\n",
              "TN    1815\n",
              "LB    1774\n",
              "SD    1755\n",
              "IQ    1716\n",
              "MA    1713\n",
              "LY    1712\n",
              "SY    1649\n",
              "KW    1634\n",
              "Name: preds, dtype: int64"
            ]
          },
          "execution_count": 57,
          "metadata": {},
          "output_type": "execute_result"
        }
      ],
      "source": [
        "cross_val_df['preds'].value_counts()"
      ]
    },
    {
      "cell_type": "code",
      "execution_count": null,
      "metadata": {
        "execution": {
          "iopub.execute_input": "2022-03-14T03:30:55.610742Z",
          "iopub.status.busy": "2022-03-14T03:30:55.610421Z",
          "iopub.status.idle": "2022-03-14T03:30:56.534833Z",
          "shell.execute_reply": "2022-03-14T03:30:56.534251Z",
          "shell.execute_reply.started": "2022-03-14T03:30:55.610709Z"
        },
        "tags": [],
        "id": "yJacdjlVx5_P",
        "outputId": "c911da56-f75a-49ca-ab2e-940086b677fa"
      },
      "outputs": [
        {
          "name": "stdout",
          "output_type": "stream",
          "text": [
            "              precision    recall  f1-score   support\n",
            "\n",
            "          AE       0.45      0.49      0.47      1792\n",
            "          BH       0.44      0.47      0.45      1785\n",
            "          DZ       0.62      0.64      0.63      1774\n",
            "          EG       0.74      0.78      0.76      1922\n",
            "          IQ       0.72      0.67      0.69      1822\n",
            "          JO       0.47      0.47      0.47      1824\n",
            "          KW       0.55      0.50      0.52      1825\n",
            "          LB       0.70      0.67      0.68      1859\n",
            "          LY       0.70      0.64      0.67      1877\n",
            "          MA       0.77      0.72      0.74      1826\n",
            "          OM       0.50      0.54      0.52      1833\n",
            "          PL       0.49      0.52      0.51      1854\n",
            "          QA       0.53      0.55      0.54      1878\n",
            "          SA       0.50      0.51      0.50      1884\n",
            "          SD       0.79      0.72      0.75      1906\n",
            "          SY       0.57      0.50      0.53      1896\n",
            "          TN       0.72      0.69      0.70      1886\n",
            "          YE       0.47      0.53      0.50      1843\n",
            "\n",
            "    accuracy                           0.59     33286\n",
            "   macro avg       0.59      0.59      0.59     33286\n",
            "weighted avg       0.60      0.59      0.59     33286\n",
            "\n"
          ]
        }
      ],
      "source": [
        "print(classification_report(selected_dataset.test[LABEL_COLUMN],cross_val_df['preds']))"
      ]
    },
    {
      "cell_type": "code",
      "execution_count": null,
      "metadata": {
        "execution": {
          "iopub.execute_input": "2022-03-14T03:42:35.955824Z",
          "iopub.status.busy": "2022-03-14T03:42:35.955491Z",
          "iopub.status.idle": "2022-03-14T03:43:02.178040Z",
          "shell.execute_reply": "2022-03-14T03:43:02.177380Z",
          "shell.execute_reply.started": "2022-03-14T03:42:35.955796Z"
        },
        "tags": [],
        "id": "69epFjUtx5_Q",
        "outputId": "6b473fc2-fb97-4b3d-d85a-80b0f278ccad"
      },
      "outputs": [
        {
          "name": "stdout",
          "output_type": "stream",
          "text": [
            "huggingface/tokenizers: The current process just got forked, after parallelism has already been used. Disabling parallelism to avoid deadlocks...\n",
            "To disable this warning, you can either:\n",
            "\t- Avoid using `tokenizers` before the fork if possible\n",
            "\t- Explicitly set the environment variable TOKENIZERS_PARALLELISM=(true | false)\n",
            "tar: Removing leading `../../' from member names\n",
            "../../workspace/v2/output_dir/\n",
            "../../workspace/v2/output_dir/training_args.bin\n",
            "../../workspace/v2/output_dir/special_tokens_map.json\n",
            "../../workspace/v2/output_dir/config.json\n",
            "../../workspace/v2/output_dir/tokenizer_config.json\n",
            "../../workspace/v2/output_dir/pytorch_model.bin\n",
            "../../workspace/v2/output_dir/vocab.txt\n"
          ]
        }
      ],
      "source": [
        "!tar chvfz notebook_v1_plus.tar.gz ../../workspace/v2/output_dir"
      ]
    }
  ],
  "metadata": {
    "accelerator": "GPU",
    "colab": {
      "collapsed_sections": [],
      "name": "DL_model.ipynb",
      "provenance": [],
      "include_colab_link": true
    },
    "kernelspec": {
      "display_name": "saturn (Python 3)",
      "language": "python",
      "name": "python3"
    },
    "language_info": {
      "codemirror_mode": {
        "name": "ipython",
        "version": 3
      },
      "file_extension": ".py",
      "mimetype": "text/x-python",
      "name": "python",
      "nbconvert_exporter": "python",
      "pygments_lexer": "ipython3",
      "version": "3.9.9"
    },
    "widgets": {
      "application/vnd.jupyter.widget-state+json": {
        "0a0bf204d3984f708eedf6a3cfb9e82f": {
          "model_module": "@jupyter-widgets/base",
          "model_module_version": "1.2.0",
          "model_name": "LayoutModel",
          "state": {
            "_model_module": "@jupyter-widgets/base",
            "_model_module_version": "1.2.0",
            "_model_name": "LayoutModel",
            "_view_count": null,
            "_view_module": "@jupyter-widgets/base",
            "_view_module_version": "1.2.0",
            "_view_name": "LayoutView",
            "align_content": null,
            "align_items": null,
            "align_self": null,
            "border": null,
            "bottom": null,
            "display": null,
            "flex": null,
            "flex_flow": null,
            "grid_area": null,
            "grid_auto_columns": null,
            "grid_auto_flow": null,
            "grid_auto_rows": null,
            "grid_column": null,
            "grid_gap": null,
            "grid_row": null,
            "grid_template_areas": null,
            "grid_template_columns": null,
            "grid_template_rows": null,
            "height": null,
            "justify_content": null,
            "justify_items": null,
            "left": null,
            "margin": null,
            "max_height": null,
            "max_width": null,
            "min_height": null,
            "min_width": null,
            "object_fit": null,
            "object_position": null,
            "order": null,
            "overflow": null,
            "overflow_x": null,
            "overflow_y": null,
            "padding": null,
            "right": null,
            "top": null,
            "visibility": null,
            "width": null
          }
        },
        "0a72d2d06c294552997500f264fdd017": {
          "model_module": "@jupyter-widgets/controls",
          "model_module_version": "1.5.0",
          "model_name": "DescriptionStyleModel",
          "state": {
            "_model_module": "@jupyter-widgets/controls",
            "_model_module_version": "1.5.0",
            "_model_name": "DescriptionStyleModel",
            "_view_count": null,
            "_view_module": "@jupyter-widgets/base",
            "_view_module_version": "1.2.0",
            "_view_name": "StyleView",
            "description_width": ""
          }
        },
        "0a8373d83e6b4306bbff4b2c83708912": {
          "model_module": "@jupyter-widgets/controls",
          "model_module_version": "1.5.0",
          "model_name": "DescriptionStyleModel",
          "state": {
            "_model_module": "@jupyter-widgets/controls",
            "_model_module_version": "1.5.0",
            "_model_name": "DescriptionStyleModel",
            "_view_count": null,
            "_view_module": "@jupyter-widgets/base",
            "_view_module_version": "1.2.0",
            "_view_name": "StyleView",
            "description_width": ""
          }
        },
        "0c91fa5c1e534ff69f9666afe33b03d2": {
          "model_module": "@jupyter-widgets/controls",
          "model_module_version": "1.5.0",
          "model_name": "HBoxModel",
          "state": {
            "_dom_classes": [],
            "_model_module": "@jupyter-widgets/controls",
            "_model_module_version": "1.5.0",
            "_model_name": "HBoxModel",
            "_view_count": null,
            "_view_module": "@jupyter-widgets/controls",
            "_view_module_version": "1.5.0",
            "_view_name": "HBoxView",
            "box_style": "",
            "children": [
              "IPY_MODEL_85204c54694944a280f05cb34fb3e7fa",
              "IPY_MODEL_2a0fef2cee4f4cdc8b55cee9aa147421",
              "IPY_MODEL_8a550c5d262e490a88b0b69241f72e8c"
            ],
            "layout": "IPY_MODEL_d8afd841f1b240f19343ec8dfd5aa054"
          }
        },
        "1c82d887513342b8851aa8e21165c421": {
          "model_module": "@jupyter-widgets/controls",
          "model_module_version": "1.5.0",
          "model_name": "ProgressStyleModel",
          "state": {
            "_model_module": "@jupyter-widgets/controls",
            "_model_module_version": "1.5.0",
            "_model_name": "ProgressStyleModel",
            "_view_count": null,
            "_view_module": "@jupyter-widgets/base",
            "_view_module_version": "1.2.0",
            "_view_name": "StyleView",
            "bar_color": null,
            "description_width": ""
          }
        },
        "1d095e070192437a98ab4cf85032ad5d": {
          "model_module": "@jupyter-widgets/base",
          "model_module_version": "1.2.0",
          "model_name": "LayoutModel",
          "state": {
            "_model_module": "@jupyter-widgets/base",
            "_model_module_version": "1.2.0",
            "_model_name": "LayoutModel",
            "_view_count": null,
            "_view_module": "@jupyter-widgets/base",
            "_view_module_version": "1.2.0",
            "_view_name": "LayoutView",
            "align_content": null,
            "align_items": null,
            "align_self": null,
            "border": null,
            "bottom": null,
            "display": null,
            "flex": null,
            "flex_flow": null,
            "grid_area": null,
            "grid_auto_columns": null,
            "grid_auto_flow": null,
            "grid_auto_rows": null,
            "grid_column": null,
            "grid_gap": null,
            "grid_row": null,
            "grid_template_areas": null,
            "grid_template_columns": null,
            "grid_template_rows": null,
            "height": null,
            "justify_content": null,
            "justify_items": null,
            "left": null,
            "margin": null,
            "max_height": null,
            "max_width": null,
            "min_height": null,
            "min_width": null,
            "object_fit": null,
            "object_position": null,
            "order": null,
            "overflow": null,
            "overflow_x": null,
            "overflow_y": null,
            "padding": null,
            "right": null,
            "top": null,
            "visibility": null,
            "width": null
          }
        },
        "1f49993ae38f46d5b630e1e0ea0fd510": {
          "model_module": "@jupyter-widgets/controls",
          "model_module_version": "1.5.0",
          "model_name": "HTMLModel",
          "state": {
            "_dom_classes": [],
            "_model_module": "@jupyter-widgets/controls",
            "_model_module_version": "1.5.0",
            "_model_name": "HTMLModel",
            "_view_count": null,
            "_view_module": "@jupyter-widgets/controls",
            "_view_module_version": "1.5.0",
            "_view_name": "HTMLView",
            "description": "",
            "description_tooltip": null,
            "layout": "IPY_MODEL_cd6aa66e60994b79b7b37c0141c2dc66",
            "placeholder": "​",
            "style": "IPY_MODEL_fa7033a0469a489a98d36fb30c6d3036",
            "value": " 112/112 [00:00&lt;00:00, 799B/s]"
          }
        },
        "215a4c69dda54f1c9342dadfa09039df": {
          "model_module": "@jupyter-widgets/controls",
          "model_module_version": "1.5.0",
          "model_name": "DescriptionStyleModel",
          "state": {
            "_model_module": "@jupyter-widgets/controls",
            "_model_module_version": "1.5.0",
            "_model_name": "DescriptionStyleModel",
            "_view_count": null,
            "_view_module": "@jupyter-widgets/base",
            "_view_module_version": "1.2.0",
            "_view_name": "StyleView",
            "description_width": ""
          }
        },
        "292c3ebdb827480aa75756966be91959": {
          "model_module": "@jupyter-widgets/controls",
          "model_module_version": "1.5.0",
          "model_name": "HTMLModel",
          "state": {
            "_dom_classes": [],
            "_model_module": "@jupyter-widgets/controls",
            "_model_module_version": "1.5.0",
            "_model_name": "HTMLModel",
            "_view_count": null,
            "_view_module": "@jupyter-widgets/controls",
            "_view_module_version": "1.5.0",
            "_view_name": "HTMLView",
            "description": "",
            "description_tooltip": null,
            "layout": "IPY_MODEL_aedbbca25de1474fb5288e9e4c8116ed",
            "placeholder": "​",
            "style": "IPY_MODEL_0a72d2d06c294552997500f264fdd017",
            "value": " 825k/825k [00:00&lt;00:00, 1.62MB/s]"
          }
        },
        "2a0fef2cee4f4cdc8b55cee9aa147421": {
          "model_module": "@jupyter-widgets/controls",
          "model_module_version": "1.5.0",
          "model_name": "FloatProgressModel",
          "state": {
            "_dom_classes": [],
            "_model_module": "@jupyter-widgets/controls",
            "_model_module_version": "1.5.0",
            "_model_name": "FloatProgressModel",
            "_view_count": null,
            "_view_module": "@jupyter-widgets/controls",
            "_view_module_version": "1.5.0",
            "_view_name": "ProgressView",
            "bar_style": "success",
            "description": "",
            "description_tooltip": null,
            "layout": "IPY_MODEL_4c78204ff1cc4dc5b053c115c9173d6a",
            "max": 2642362,
            "min": 0,
            "orientation": "horizontal",
            "style": "IPY_MODEL_1c82d887513342b8851aa8e21165c421",
            "value": 2642362
          }
        },
        "2cc0af8a9c5a44a5a254c3264f578406": {
          "model_module": "@jupyter-widgets/controls",
          "model_module_version": "1.5.0",
          "model_name": "ProgressStyleModel",
          "state": {
            "_model_module": "@jupyter-widgets/controls",
            "_model_module_version": "1.5.0",
            "_model_name": "ProgressStyleModel",
            "_view_count": null,
            "_view_module": "@jupyter-widgets/base",
            "_view_module_version": "1.2.0",
            "_view_name": "StyleView",
            "bar_color": null,
            "description_width": ""
          }
        },
        "362c0cc50a8c4c72a056a1f0896bec19": {
          "model_module": "@jupyter-widgets/controls",
          "model_module_version": "1.5.0",
          "model_name": "ProgressStyleModel",
          "state": {
            "_model_module": "@jupyter-widgets/controls",
            "_model_module_version": "1.5.0",
            "_model_name": "ProgressStyleModel",
            "_view_count": null,
            "_view_module": "@jupyter-widgets/base",
            "_view_module_version": "1.2.0",
            "_view_name": "StyleView",
            "bar_color": null,
            "description_width": ""
          }
        },
        "362eed48e5a44c81877725517c09a306": {
          "model_module": "@jupyter-widgets/controls",
          "model_module_version": "1.5.0",
          "model_name": "HBoxModel",
          "state": {
            "_dom_classes": [],
            "_model_module": "@jupyter-widgets/controls",
            "_model_module_version": "1.5.0",
            "_model_name": "HBoxModel",
            "_view_count": null,
            "_view_module": "@jupyter-widgets/controls",
            "_view_module_version": "1.5.0",
            "_view_name": "HBoxView",
            "box_style": "",
            "children": [
              "IPY_MODEL_fb73f16af88a4341b051dd14098b6cfa",
              "IPY_MODEL_c8b2bb71fdda4ff5be1b2e801ca5df3f",
              "IPY_MODEL_7ed2c22de91741ce8e6b3df91c779f23"
            ],
            "layout": "IPY_MODEL_7655b00da6704e4fb9a9cce2620a1846"
          }
        },
        "3d0627dcb7864eccbb7ee6e9f1eb045f": {
          "model_module": "@jupyter-widgets/base",
          "model_module_version": "1.2.0",
          "model_name": "LayoutModel",
          "state": {
            "_model_module": "@jupyter-widgets/base",
            "_model_module_version": "1.2.0",
            "_model_name": "LayoutModel",
            "_view_count": null,
            "_view_module": "@jupyter-widgets/base",
            "_view_module_version": "1.2.0",
            "_view_name": "LayoutView",
            "align_content": null,
            "align_items": null,
            "align_self": null,
            "border": null,
            "bottom": null,
            "display": null,
            "flex": null,
            "flex_flow": null,
            "grid_area": null,
            "grid_auto_columns": null,
            "grid_auto_flow": null,
            "grid_auto_rows": null,
            "grid_column": null,
            "grid_gap": null,
            "grid_row": null,
            "grid_template_areas": null,
            "grid_template_columns": null,
            "grid_template_rows": null,
            "height": null,
            "justify_content": null,
            "justify_items": null,
            "left": null,
            "margin": null,
            "max_height": null,
            "max_width": null,
            "min_height": null,
            "min_width": null,
            "object_fit": null,
            "object_position": null,
            "order": null,
            "overflow": null,
            "overflow_x": null,
            "overflow_y": null,
            "padding": null,
            "right": null,
            "top": null,
            "visibility": null,
            "width": null
          }
        },
        "3e3d93610f7d4ab0b51d45e96e9f6efa": {
          "model_module": "@jupyter-widgets/controls",
          "model_module_version": "1.5.0",
          "model_name": "FloatProgressModel",
          "state": {
            "_dom_classes": [],
            "_model_module": "@jupyter-widgets/controls",
            "_model_module_version": "1.5.0",
            "_model_name": "FloatProgressModel",
            "_view_count": null,
            "_view_module": "@jupyter-widgets/controls",
            "_view_module_version": "1.5.0",
            "_view_name": "ProgressView",
            "bar_style": "success",
            "description": "",
            "description_tooltip": null,
            "layout": "IPY_MODEL_80ebaced2ab5488aad65e5a426461f12",
            "max": 381,
            "min": 0,
            "orientation": "horizontal",
            "style": "IPY_MODEL_e1e46698e7054bb381f10acfa89d538a",
            "value": 381
          }
        },
        "442506bef7374e159785048ab52a5813": {
          "model_module": "@jupyter-widgets/base",
          "model_module_version": "1.2.0",
          "model_name": "LayoutModel",
          "state": {
            "_model_module": "@jupyter-widgets/base",
            "_model_module_version": "1.2.0",
            "_model_name": "LayoutModel",
            "_view_count": null,
            "_view_module": "@jupyter-widgets/base",
            "_view_module_version": "1.2.0",
            "_view_name": "LayoutView",
            "align_content": null,
            "align_items": null,
            "align_self": null,
            "border": null,
            "bottom": null,
            "display": null,
            "flex": null,
            "flex_flow": null,
            "grid_area": null,
            "grid_auto_columns": null,
            "grid_auto_flow": null,
            "grid_auto_rows": null,
            "grid_column": null,
            "grid_gap": null,
            "grid_row": null,
            "grid_template_areas": null,
            "grid_template_columns": null,
            "grid_template_rows": null,
            "height": null,
            "justify_content": null,
            "justify_items": null,
            "left": null,
            "margin": null,
            "max_height": null,
            "max_width": null,
            "min_height": null,
            "min_width": null,
            "object_fit": null,
            "object_position": null,
            "order": null,
            "overflow": null,
            "overflow_x": null,
            "overflow_y": null,
            "padding": null,
            "right": null,
            "top": null,
            "visibility": null,
            "width": null
          }
        },
        "4c78204ff1cc4dc5b053c115c9173d6a": {
          "model_module": "@jupyter-widgets/base",
          "model_module_version": "1.2.0",
          "model_name": "LayoutModel",
          "state": {
            "_model_module": "@jupyter-widgets/base",
            "_model_module_version": "1.2.0",
            "_model_name": "LayoutModel",
            "_view_count": null,
            "_view_module": "@jupyter-widgets/base",
            "_view_module_version": "1.2.0",
            "_view_name": "LayoutView",
            "align_content": null,
            "align_items": null,
            "align_self": null,
            "border": null,
            "bottom": null,
            "display": null,
            "flex": null,
            "flex_flow": null,
            "grid_area": null,
            "grid_auto_columns": null,
            "grid_auto_flow": null,
            "grid_auto_rows": null,
            "grid_column": null,
            "grid_gap": null,
            "grid_row": null,
            "grid_template_areas": null,
            "grid_template_columns": null,
            "grid_template_rows": null,
            "height": null,
            "justify_content": null,
            "justify_items": null,
            "left": null,
            "margin": null,
            "max_height": null,
            "max_width": null,
            "min_height": null,
            "min_width": null,
            "object_fit": null,
            "object_position": null,
            "order": null,
            "overflow": null,
            "overflow_x": null,
            "overflow_y": null,
            "padding": null,
            "right": null,
            "top": null,
            "visibility": null,
            "width": null
          }
        },
        "504ee5e2ff79473cbb21758c84a1cd59": {
          "model_module": "@jupyter-widgets/base",
          "model_module_version": "1.2.0",
          "model_name": "LayoutModel",
          "state": {
            "_model_module": "@jupyter-widgets/base",
            "_model_module_version": "1.2.0",
            "_model_name": "LayoutModel",
            "_view_count": null,
            "_view_module": "@jupyter-widgets/base",
            "_view_module_version": "1.2.0",
            "_view_name": "LayoutView",
            "align_content": null,
            "align_items": null,
            "align_self": null,
            "border": null,
            "bottom": null,
            "display": null,
            "flex": null,
            "flex_flow": null,
            "grid_area": null,
            "grid_auto_columns": null,
            "grid_auto_flow": null,
            "grid_auto_rows": null,
            "grid_column": null,
            "grid_gap": null,
            "grid_row": null,
            "grid_template_areas": null,
            "grid_template_columns": null,
            "grid_template_rows": null,
            "height": null,
            "justify_content": null,
            "justify_items": null,
            "left": null,
            "margin": null,
            "max_height": null,
            "max_width": null,
            "min_height": null,
            "min_width": null,
            "object_fit": null,
            "object_position": null,
            "order": null,
            "overflow": null,
            "overflow_x": null,
            "overflow_y": null,
            "padding": null,
            "right": null,
            "top": null,
            "visibility": null,
            "width": null
          }
        },
        "5233b9cde8bd4f4dad7a6f93febbe1ab": {
          "model_module": "@jupyter-widgets/controls",
          "model_module_version": "1.5.0",
          "model_name": "HTMLModel",
          "state": {
            "_dom_classes": [],
            "_model_module": "@jupyter-widgets/controls",
            "_model_module_version": "1.5.0",
            "_model_name": "HTMLModel",
            "_view_count": null,
            "_view_module": "@jupyter-widgets/controls",
            "_view_module_version": "1.5.0",
            "_view_name": "HTMLView",
            "description": "",
            "description_tooltip": null,
            "layout": "IPY_MODEL_b0a9c6e996d34269b3e33028c69d1917",
            "placeholder": "​",
            "style": "IPY_MODEL_56eea524b6064ac9baaff3a3ef51a59c",
            "value": "Downloading: 100%"
          }
        },
        "56eea524b6064ac9baaff3a3ef51a59c": {
          "model_module": "@jupyter-widgets/controls",
          "model_module_version": "1.5.0",
          "model_name": "DescriptionStyleModel",
          "state": {
            "_model_module": "@jupyter-widgets/controls",
            "_model_module_version": "1.5.0",
            "_model_name": "DescriptionStyleModel",
            "_view_count": null,
            "_view_module": "@jupyter-widgets/base",
            "_view_module_version": "1.2.0",
            "_view_name": "StyleView",
            "description_width": ""
          }
        },
        "5c06d000d4284287b19e4bb0b3fa0fa5": {
          "model_module": "@jupyter-widgets/controls",
          "model_module_version": "1.5.0",
          "model_name": "FloatProgressModel",
          "state": {
            "_dom_classes": [],
            "_model_module": "@jupyter-widgets/controls",
            "_model_module_version": "1.5.0",
            "_model_name": "FloatProgressModel",
            "_view_count": null,
            "_view_module": "@jupyter-widgets/controls",
            "_view_module_version": "1.5.0",
            "_view_name": "ProgressView",
            "bar_style": "success",
            "description": "",
            "description_tooltip": null,
            "layout": "IPY_MODEL_0a0bf204d3984f708eedf6a3cfb9e82f",
            "max": 112,
            "min": 0,
            "orientation": "horizontal",
            "style": "IPY_MODEL_362c0cc50a8c4c72a056a1f0896bec19",
            "value": 112
          }
        },
        "5f6e19264bd646f280cea0af3fe35c7c": {
          "model_module": "@jupyter-widgets/base",
          "model_module_version": "1.2.0",
          "model_name": "LayoutModel",
          "state": {
            "_model_module": "@jupyter-widgets/base",
            "_model_module_version": "1.2.0",
            "_model_name": "LayoutModel",
            "_view_count": null,
            "_view_module": "@jupyter-widgets/base",
            "_view_module_version": "1.2.0",
            "_view_name": "LayoutView",
            "align_content": null,
            "align_items": null,
            "align_self": null,
            "border": null,
            "bottom": null,
            "display": null,
            "flex": null,
            "flex_flow": null,
            "grid_area": null,
            "grid_auto_columns": null,
            "grid_auto_flow": null,
            "grid_auto_rows": null,
            "grid_column": null,
            "grid_gap": null,
            "grid_row": null,
            "grid_template_areas": null,
            "grid_template_columns": null,
            "grid_template_rows": null,
            "height": null,
            "justify_content": null,
            "justify_items": null,
            "left": null,
            "margin": null,
            "max_height": null,
            "max_width": null,
            "min_height": null,
            "min_width": null,
            "object_fit": null,
            "object_position": null,
            "order": null,
            "overflow": null,
            "overflow_x": null,
            "overflow_y": null,
            "padding": null,
            "right": null,
            "top": null,
            "visibility": null,
            "width": null
          }
        },
        "6315873d24e04678b17c81983ad30014": {
          "model_module": "@jupyter-widgets/controls",
          "model_module_version": "1.5.0",
          "model_name": "DescriptionStyleModel",
          "state": {
            "_model_module": "@jupyter-widgets/controls",
            "_model_module_version": "1.5.0",
            "_model_name": "DescriptionStyleModel",
            "_view_count": null,
            "_view_module": "@jupyter-widgets/base",
            "_view_module_version": "1.2.0",
            "_view_name": "StyleView",
            "description_width": ""
          }
        },
        "7055f30d27104389a6b8b16749d37e37": {
          "model_module": "@jupyter-widgets/base",
          "model_module_version": "1.2.0",
          "model_name": "LayoutModel",
          "state": {
            "_model_module": "@jupyter-widgets/base",
            "_model_module_version": "1.2.0",
            "_model_name": "LayoutModel",
            "_view_count": null,
            "_view_module": "@jupyter-widgets/base",
            "_view_module_version": "1.2.0",
            "_view_name": "LayoutView",
            "align_content": null,
            "align_items": null,
            "align_self": null,
            "border": null,
            "bottom": null,
            "display": null,
            "flex": null,
            "flex_flow": null,
            "grid_area": null,
            "grid_auto_columns": null,
            "grid_auto_flow": null,
            "grid_auto_rows": null,
            "grid_column": null,
            "grid_gap": null,
            "grid_row": null,
            "grid_template_areas": null,
            "grid_template_columns": null,
            "grid_template_rows": null,
            "height": null,
            "justify_content": null,
            "justify_items": null,
            "left": null,
            "margin": null,
            "max_height": null,
            "max_width": null,
            "min_height": null,
            "min_width": null,
            "object_fit": null,
            "object_position": null,
            "order": null,
            "overflow": null,
            "overflow_x": null,
            "overflow_y": null,
            "padding": null,
            "right": null,
            "top": null,
            "visibility": null,
            "width": null
          }
        },
        "72b0cbd78cbe4cc88e50f8f33a9ed085": {
          "model_module": "@jupyter-widgets/base",
          "model_module_version": "1.2.0",
          "model_name": "LayoutModel",
          "state": {
            "_model_module": "@jupyter-widgets/base",
            "_model_module_version": "1.2.0",
            "_model_name": "LayoutModel",
            "_view_count": null,
            "_view_module": "@jupyter-widgets/base",
            "_view_module_version": "1.2.0",
            "_view_name": "LayoutView",
            "align_content": null,
            "align_items": null,
            "align_self": null,
            "border": null,
            "bottom": null,
            "display": null,
            "flex": null,
            "flex_flow": null,
            "grid_area": null,
            "grid_auto_columns": null,
            "grid_auto_flow": null,
            "grid_auto_rows": null,
            "grid_column": null,
            "grid_gap": null,
            "grid_row": null,
            "grid_template_areas": null,
            "grid_template_columns": null,
            "grid_template_rows": null,
            "height": null,
            "justify_content": null,
            "justify_items": null,
            "left": null,
            "margin": null,
            "max_height": null,
            "max_width": null,
            "min_height": null,
            "min_width": null,
            "object_fit": null,
            "object_position": null,
            "order": null,
            "overflow": null,
            "overflow_x": null,
            "overflow_y": null,
            "padding": null,
            "right": null,
            "top": null,
            "visibility": null,
            "width": null
          }
        },
        "7655b00da6704e4fb9a9cce2620a1846": {
          "model_module": "@jupyter-widgets/base",
          "model_module_version": "1.2.0",
          "model_name": "LayoutModel",
          "state": {
            "_model_module": "@jupyter-widgets/base",
            "_model_module_version": "1.2.0",
            "_model_name": "LayoutModel",
            "_view_count": null,
            "_view_module": "@jupyter-widgets/base",
            "_view_module_version": "1.2.0",
            "_view_name": "LayoutView",
            "align_content": null,
            "align_items": null,
            "align_self": null,
            "border": null,
            "bottom": null,
            "display": null,
            "flex": null,
            "flex_flow": null,
            "grid_area": null,
            "grid_auto_columns": null,
            "grid_auto_flow": null,
            "grid_auto_rows": null,
            "grid_column": null,
            "grid_gap": null,
            "grid_row": null,
            "grid_template_areas": null,
            "grid_template_columns": null,
            "grid_template_rows": null,
            "height": null,
            "justify_content": null,
            "justify_items": null,
            "left": null,
            "margin": null,
            "max_height": null,
            "max_width": null,
            "min_height": null,
            "min_width": null,
            "object_fit": null,
            "object_position": null,
            "order": null,
            "overflow": null,
            "overflow_x": null,
            "overflow_y": null,
            "padding": null,
            "right": null,
            "top": null,
            "visibility": null,
            "width": null
          }
        },
        "7ed2c22de91741ce8e6b3df91c779f23": {
          "model_module": "@jupyter-widgets/controls",
          "model_module_version": "1.5.0",
          "model_name": "HTMLModel",
          "state": {
            "_dom_classes": [],
            "_model_module": "@jupyter-widgets/controls",
            "_model_module_version": "1.5.0",
            "_model_name": "HTMLModel",
            "_view_count": null,
            "_view_module": "@jupyter-widgets/controls",
            "_view_module_version": "1.5.0",
            "_view_name": "HTMLView",
            "description": "",
            "description_tooltip": null,
            "layout": "IPY_MODEL_bb514e1cf37646f3a58932dde25ca293",
            "placeholder": "​",
            "style": "IPY_MODEL_0a8373d83e6b4306bbff4b2c83708912",
            "value": " 384/384 [00:00&lt;00:00, 2.29kB/s]"
          }
        },
        "80ebaced2ab5488aad65e5a426461f12": {
          "model_module": "@jupyter-widgets/base",
          "model_module_version": "1.2.0",
          "model_name": "LayoutModel",
          "state": {
            "_model_module": "@jupyter-widgets/base",
            "_model_module_version": "1.2.0",
            "_model_name": "LayoutModel",
            "_view_count": null,
            "_view_module": "@jupyter-widgets/base",
            "_view_module_version": "1.2.0",
            "_view_name": "LayoutView",
            "align_content": null,
            "align_items": null,
            "align_self": null,
            "border": null,
            "bottom": null,
            "display": null,
            "flex": null,
            "flex_flow": null,
            "grid_area": null,
            "grid_auto_columns": null,
            "grid_auto_flow": null,
            "grid_auto_rows": null,
            "grid_column": null,
            "grid_gap": null,
            "grid_row": null,
            "grid_template_areas": null,
            "grid_template_columns": null,
            "grid_template_rows": null,
            "height": null,
            "justify_content": null,
            "justify_items": null,
            "left": null,
            "margin": null,
            "max_height": null,
            "max_width": null,
            "min_height": null,
            "min_width": null,
            "object_fit": null,
            "object_position": null,
            "order": null,
            "overflow": null,
            "overflow_x": null,
            "overflow_y": null,
            "padding": null,
            "right": null,
            "top": null,
            "visibility": null,
            "width": null
          }
        },
        "827afd10d48d4947853e710bd7e51025": {
          "model_module": "@jupyter-widgets/controls",
          "model_module_version": "1.5.0",
          "model_name": "FloatProgressModel",
          "state": {
            "_dom_classes": [],
            "_model_module": "@jupyter-widgets/controls",
            "_model_module_version": "1.5.0",
            "_model_name": "FloatProgressModel",
            "_view_count": null,
            "_view_module": "@jupyter-widgets/controls",
            "_view_module_version": "1.5.0",
            "_view_name": "ProgressView",
            "bar_style": "success",
            "description": "",
            "description_tooltip": null,
            "layout": "IPY_MODEL_d5e40d854cc648f096ff66e0aa19efbc",
            "max": 824793,
            "min": 0,
            "orientation": "horizontal",
            "style": "IPY_MODEL_2cc0af8a9c5a44a5a254c3264f578406",
            "value": 824793
          }
        },
        "832724f654804ae9a3ba80568d0562b1": {
          "model_module": "@jupyter-widgets/controls",
          "model_module_version": "1.5.0",
          "model_name": "HBoxModel",
          "state": {
            "_dom_classes": [],
            "_model_module": "@jupyter-widgets/controls",
            "_model_module_version": "1.5.0",
            "_model_name": "HBoxModel",
            "_view_count": null,
            "_view_module": "@jupyter-widgets/controls",
            "_view_module_version": "1.5.0",
            "_view_name": "HBoxView",
            "box_style": "",
            "children": [
              "IPY_MODEL_feb93385bdc545679f0d6f59fec24a8f",
              "IPY_MODEL_5c06d000d4284287b19e4bb0b3fa0fa5",
              "IPY_MODEL_1f49993ae38f46d5b630e1e0ea0fd510"
            ],
            "layout": "IPY_MODEL_861dc6037e4d42e9b9636cfc12f5b4c2"
          }
        },
        "83a194a4f68a438aaa396e136188b795": {
          "model_module": "@jupyter-widgets/controls",
          "model_module_version": "1.5.0",
          "model_name": "ProgressStyleModel",
          "state": {
            "_model_module": "@jupyter-widgets/controls",
            "_model_module_version": "1.5.0",
            "_model_name": "ProgressStyleModel",
            "_view_count": null,
            "_view_module": "@jupyter-widgets/base",
            "_view_module_version": "1.2.0",
            "_view_name": "StyleView",
            "bar_color": null,
            "description_width": ""
          }
        },
        "8490d9ef15304d2b9343c6441c40a661": {
          "model_module": "@jupyter-widgets/controls",
          "model_module_version": "1.5.0",
          "model_name": "DescriptionStyleModel",
          "state": {
            "_model_module": "@jupyter-widgets/controls",
            "_model_module_version": "1.5.0",
            "_model_name": "DescriptionStyleModel",
            "_view_count": null,
            "_view_module": "@jupyter-widgets/base",
            "_view_module_version": "1.2.0",
            "_view_name": "StyleView",
            "description_width": ""
          }
        },
        "85204c54694944a280f05cb34fb3e7fa": {
          "model_module": "@jupyter-widgets/controls",
          "model_module_version": "1.5.0",
          "model_name": "HTMLModel",
          "state": {
            "_dom_classes": [],
            "_model_module": "@jupyter-widgets/controls",
            "_model_module_version": "1.5.0",
            "_model_name": "HTMLModel",
            "_view_count": null,
            "_view_module": "@jupyter-widgets/controls",
            "_view_module_version": "1.5.0",
            "_view_name": "HTMLView",
            "description": "",
            "description_tooltip": null,
            "layout": "IPY_MODEL_3d0627dcb7864eccbb7ee6e9f1eb045f",
            "placeholder": "​",
            "style": "IPY_MODEL_e243e7a68fa94b3ca55f16817967f101",
            "value": "Downloading: 100%"
          }
        },
        "861dc6037e4d42e9b9636cfc12f5b4c2": {
          "model_module": "@jupyter-widgets/base",
          "model_module_version": "1.2.0",
          "model_name": "LayoutModel",
          "state": {
            "_model_module": "@jupyter-widgets/base",
            "_model_module_version": "1.2.0",
            "_model_name": "LayoutModel",
            "_view_count": null,
            "_view_module": "@jupyter-widgets/base",
            "_view_module_version": "1.2.0",
            "_view_name": "LayoutView",
            "align_content": null,
            "align_items": null,
            "align_self": null,
            "border": null,
            "bottom": null,
            "display": null,
            "flex": null,
            "flex_flow": null,
            "grid_area": null,
            "grid_auto_columns": null,
            "grid_auto_flow": null,
            "grid_auto_rows": null,
            "grid_column": null,
            "grid_gap": null,
            "grid_row": null,
            "grid_template_areas": null,
            "grid_template_columns": null,
            "grid_template_rows": null,
            "height": null,
            "justify_content": null,
            "justify_items": null,
            "left": null,
            "margin": null,
            "max_height": null,
            "max_width": null,
            "min_height": null,
            "min_width": null,
            "object_fit": null,
            "object_position": null,
            "order": null,
            "overflow": null,
            "overflow_x": null,
            "overflow_y": null,
            "padding": null,
            "right": null,
            "top": null,
            "visibility": null,
            "width": null
          }
        },
        "8a550c5d262e490a88b0b69241f72e8c": {
          "model_module": "@jupyter-widgets/controls",
          "model_module_version": "1.5.0",
          "model_name": "HTMLModel",
          "state": {
            "_dom_classes": [],
            "_model_module": "@jupyter-widgets/controls",
            "_model_module_version": "1.5.0",
            "_model_name": "HTMLModel",
            "_view_count": null,
            "_view_module": "@jupyter-widgets/controls",
            "_view_module_version": "1.5.0",
            "_view_name": "HTMLView",
            "description": "",
            "description_tooltip": null,
            "layout": "IPY_MODEL_504ee5e2ff79473cbb21758c84a1cd59",
            "placeholder": "​",
            "style": "IPY_MODEL_dd04d154288c4052afbb2789e32f42ab",
            "value": " 2.64M/2.64M [00:00&lt;00:00, 5.54MB/s]"
          }
        },
        "a7da7f3d6c974c128f84ab1913e09d7b": {
          "model_module": "@jupyter-widgets/controls",
          "model_module_version": "1.5.0",
          "model_name": "HBoxModel",
          "state": {
            "_dom_classes": [],
            "_model_module": "@jupyter-widgets/controls",
            "_model_module_version": "1.5.0",
            "_model_name": "HBoxModel",
            "_view_count": null,
            "_view_module": "@jupyter-widgets/controls",
            "_view_module_version": "1.5.0",
            "_view_name": "HBoxView",
            "box_style": "",
            "children": [
              "IPY_MODEL_ab62f98a419342469ec3c235b4ad317a",
              "IPY_MODEL_3e3d93610f7d4ab0b51d45e96e9f6efa",
              "IPY_MODEL_d5aca0f22aa1453187f08725f79eb6f6"
            ],
            "layout": "IPY_MODEL_c5294304618b4f15b72d50d7d39236d5"
          }
        },
        "ab62f98a419342469ec3c235b4ad317a": {
          "model_module": "@jupyter-widgets/controls",
          "model_module_version": "1.5.0",
          "model_name": "HTMLModel",
          "state": {
            "_dom_classes": [],
            "_model_module": "@jupyter-widgets/controls",
            "_model_module_version": "1.5.0",
            "_model_name": "HTMLModel",
            "_view_count": null,
            "_view_module": "@jupyter-widgets/controls",
            "_view_module_version": "1.5.0",
            "_view_name": "HTMLView",
            "description": "",
            "description_tooltip": null,
            "layout": "IPY_MODEL_72b0cbd78cbe4cc88e50f8f33a9ed085",
            "placeholder": "​",
            "style": "IPY_MODEL_8490d9ef15304d2b9343c6441c40a661",
            "value": "Downloading: 100%"
          }
        },
        "aedbbca25de1474fb5288e9e4c8116ed": {
          "model_module": "@jupyter-widgets/base",
          "model_module_version": "1.2.0",
          "model_name": "LayoutModel",
          "state": {
            "_model_module": "@jupyter-widgets/base",
            "_model_module_version": "1.2.0",
            "_model_name": "LayoutModel",
            "_view_count": null,
            "_view_module": "@jupyter-widgets/base",
            "_view_module_version": "1.2.0",
            "_view_name": "LayoutView",
            "align_content": null,
            "align_items": null,
            "align_self": null,
            "border": null,
            "bottom": null,
            "display": null,
            "flex": null,
            "flex_flow": null,
            "grid_area": null,
            "grid_auto_columns": null,
            "grid_auto_flow": null,
            "grid_auto_rows": null,
            "grid_column": null,
            "grid_gap": null,
            "grid_row": null,
            "grid_template_areas": null,
            "grid_template_columns": null,
            "grid_template_rows": null,
            "height": null,
            "justify_content": null,
            "justify_items": null,
            "left": null,
            "margin": null,
            "max_height": null,
            "max_width": null,
            "min_height": null,
            "min_width": null,
            "object_fit": null,
            "object_position": null,
            "order": null,
            "overflow": null,
            "overflow_x": null,
            "overflow_y": null,
            "padding": null,
            "right": null,
            "top": null,
            "visibility": null,
            "width": null
          }
        },
        "b0a9c6e996d34269b3e33028c69d1917": {
          "model_module": "@jupyter-widgets/base",
          "model_module_version": "1.2.0",
          "model_name": "LayoutModel",
          "state": {
            "_model_module": "@jupyter-widgets/base",
            "_model_module_version": "1.2.0",
            "_model_name": "LayoutModel",
            "_view_count": null,
            "_view_module": "@jupyter-widgets/base",
            "_view_module_version": "1.2.0",
            "_view_name": "LayoutView",
            "align_content": null,
            "align_items": null,
            "align_self": null,
            "border": null,
            "bottom": null,
            "display": null,
            "flex": null,
            "flex_flow": null,
            "grid_area": null,
            "grid_auto_columns": null,
            "grid_auto_flow": null,
            "grid_auto_rows": null,
            "grid_column": null,
            "grid_gap": null,
            "grid_row": null,
            "grid_template_areas": null,
            "grid_template_columns": null,
            "grid_template_rows": null,
            "height": null,
            "justify_content": null,
            "justify_items": null,
            "left": null,
            "margin": null,
            "max_height": null,
            "max_width": null,
            "min_height": null,
            "min_width": null,
            "object_fit": null,
            "object_position": null,
            "order": null,
            "overflow": null,
            "overflow_x": null,
            "overflow_y": null,
            "padding": null,
            "right": null,
            "top": null,
            "visibility": null,
            "width": null
          }
        },
        "bb514e1cf37646f3a58932dde25ca293": {
          "model_module": "@jupyter-widgets/base",
          "model_module_version": "1.2.0",
          "model_name": "LayoutModel",
          "state": {
            "_model_module": "@jupyter-widgets/base",
            "_model_module_version": "1.2.0",
            "_model_name": "LayoutModel",
            "_view_count": null,
            "_view_module": "@jupyter-widgets/base",
            "_view_module_version": "1.2.0",
            "_view_name": "LayoutView",
            "align_content": null,
            "align_items": null,
            "align_self": null,
            "border": null,
            "bottom": null,
            "display": null,
            "flex": null,
            "flex_flow": null,
            "grid_area": null,
            "grid_auto_columns": null,
            "grid_auto_flow": null,
            "grid_auto_rows": null,
            "grid_column": null,
            "grid_gap": null,
            "grid_row": null,
            "grid_template_areas": null,
            "grid_template_columns": null,
            "grid_template_rows": null,
            "height": null,
            "justify_content": null,
            "justify_items": null,
            "left": null,
            "margin": null,
            "max_height": null,
            "max_width": null,
            "min_height": null,
            "min_width": null,
            "object_fit": null,
            "object_position": null,
            "order": null,
            "overflow": null,
            "overflow_x": null,
            "overflow_y": null,
            "padding": null,
            "right": null,
            "top": null,
            "visibility": null,
            "width": null
          }
        },
        "c5294304618b4f15b72d50d7d39236d5": {
          "model_module": "@jupyter-widgets/base",
          "model_module_version": "1.2.0",
          "model_name": "LayoutModel",
          "state": {
            "_model_module": "@jupyter-widgets/base",
            "_model_module_version": "1.2.0",
            "_model_name": "LayoutModel",
            "_view_count": null,
            "_view_module": "@jupyter-widgets/base",
            "_view_module_version": "1.2.0",
            "_view_name": "LayoutView",
            "align_content": null,
            "align_items": null,
            "align_self": null,
            "border": null,
            "bottom": null,
            "display": null,
            "flex": null,
            "flex_flow": null,
            "grid_area": null,
            "grid_auto_columns": null,
            "grid_auto_flow": null,
            "grid_auto_rows": null,
            "grid_column": null,
            "grid_gap": null,
            "grid_row": null,
            "grid_template_areas": null,
            "grid_template_columns": null,
            "grid_template_rows": null,
            "height": null,
            "justify_content": null,
            "justify_items": null,
            "left": null,
            "margin": null,
            "max_height": null,
            "max_width": null,
            "min_height": null,
            "min_width": null,
            "object_fit": null,
            "object_position": null,
            "order": null,
            "overflow": null,
            "overflow_x": null,
            "overflow_y": null,
            "padding": null,
            "right": null,
            "top": null,
            "visibility": null,
            "width": null
          }
        },
        "c8b2bb71fdda4ff5be1b2e801ca5df3f": {
          "model_module": "@jupyter-widgets/controls",
          "model_module_version": "1.5.0",
          "model_name": "FloatProgressModel",
          "state": {
            "_dom_classes": [],
            "_model_module": "@jupyter-widgets/controls",
            "_model_module_version": "1.5.0",
            "_model_name": "FloatProgressModel",
            "_view_count": null,
            "_view_module": "@jupyter-widgets/controls",
            "_view_module_version": "1.5.0",
            "_view_name": "ProgressView",
            "bar_style": "success",
            "description": "",
            "description_tooltip": null,
            "layout": "IPY_MODEL_5f6e19264bd646f280cea0af3fe35c7c",
            "max": 384,
            "min": 0,
            "orientation": "horizontal",
            "style": "IPY_MODEL_83a194a4f68a438aaa396e136188b795",
            "value": 384
          }
        },
        "cd6aa66e60994b79b7b37c0141c2dc66": {
          "model_module": "@jupyter-widgets/base",
          "model_module_version": "1.2.0",
          "model_name": "LayoutModel",
          "state": {
            "_model_module": "@jupyter-widgets/base",
            "_model_module_version": "1.2.0",
            "_model_name": "LayoutModel",
            "_view_count": null,
            "_view_module": "@jupyter-widgets/base",
            "_view_module_version": "1.2.0",
            "_view_name": "LayoutView",
            "align_content": null,
            "align_items": null,
            "align_self": null,
            "border": null,
            "bottom": null,
            "display": null,
            "flex": null,
            "flex_flow": null,
            "grid_area": null,
            "grid_auto_columns": null,
            "grid_auto_flow": null,
            "grid_auto_rows": null,
            "grid_column": null,
            "grid_gap": null,
            "grid_row": null,
            "grid_template_areas": null,
            "grid_template_columns": null,
            "grid_template_rows": null,
            "height": null,
            "justify_content": null,
            "justify_items": null,
            "left": null,
            "margin": null,
            "max_height": null,
            "max_width": null,
            "min_height": null,
            "min_width": null,
            "object_fit": null,
            "object_position": null,
            "order": null,
            "overflow": null,
            "overflow_x": null,
            "overflow_y": null,
            "padding": null,
            "right": null,
            "top": null,
            "visibility": null,
            "width": null
          }
        },
        "d5aca0f22aa1453187f08725f79eb6f6": {
          "model_module": "@jupyter-widgets/controls",
          "model_module_version": "1.5.0",
          "model_name": "HTMLModel",
          "state": {
            "_dom_classes": [],
            "_model_module": "@jupyter-widgets/controls",
            "_model_module_version": "1.5.0",
            "_model_name": "HTMLModel",
            "_view_count": null,
            "_view_module": "@jupyter-widgets/controls",
            "_view_module_version": "1.5.0",
            "_view_name": "HTMLView",
            "description": "",
            "description_tooltip": null,
            "layout": "IPY_MODEL_442506bef7374e159785048ab52a5813",
            "placeholder": "​",
            "style": "IPY_MODEL_ececa464128e4f848c85dc8685e14609",
            "value": " 381/381 [00:00&lt;00:00, 2.71kB/s]"
          }
        },
        "d5e40d854cc648f096ff66e0aa19efbc": {
          "model_module": "@jupyter-widgets/base",
          "model_module_version": "1.2.0",
          "model_name": "LayoutModel",
          "state": {
            "_model_module": "@jupyter-widgets/base",
            "_model_module_version": "1.2.0",
            "_model_name": "LayoutModel",
            "_view_count": null,
            "_view_module": "@jupyter-widgets/base",
            "_view_module_version": "1.2.0",
            "_view_name": "LayoutView",
            "align_content": null,
            "align_items": null,
            "align_self": null,
            "border": null,
            "bottom": null,
            "display": null,
            "flex": null,
            "flex_flow": null,
            "grid_area": null,
            "grid_auto_columns": null,
            "grid_auto_flow": null,
            "grid_auto_rows": null,
            "grid_column": null,
            "grid_gap": null,
            "grid_row": null,
            "grid_template_areas": null,
            "grid_template_columns": null,
            "grid_template_rows": null,
            "height": null,
            "justify_content": null,
            "justify_items": null,
            "left": null,
            "margin": null,
            "max_height": null,
            "max_width": null,
            "min_height": null,
            "min_width": null,
            "object_fit": null,
            "object_position": null,
            "order": null,
            "overflow": null,
            "overflow_x": null,
            "overflow_y": null,
            "padding": null,
            "right": null,
            "top": null,
            "visibility": null,
            "width": null
          }
        },
        "d8afd841f1b240f19343ec8dfd5aa054": {
          "model_module": "@jupyter-widgets/base",
          "model_module_version": "1.2.0",
          "model_name": "LayoutModel",
          "state": {
            "_model_module": "@jupyter-widgets/base",
            "_model_module_version": "1.2.0",
            "_model_name": "LayoutModel",
            "_view_count": null,
            "_view_module": "@jupyter-widgets/base",
            "_view_module_version": "1.2.0",
            "_view_name": "LayoutView",
            "align_content": null,
            "align_items": null,
            "align_self": null,
            "border": null,
            "bottom": null,
            "display": null,
            "flex": null,
            "flex_flow": null,
            "grid_area": null,
            "grid_auto_columns": null,
            "grid_auto_flow": null,
            "grid_auto_rows": null,
            "grid_column": null,
            "grid_gap": null,
            "grid_row": null,
            "grid_template_areas": null,
            "grid_template_columns": null,
            "grid_template_rows": null,
            "height": null,
            "justify_content": null,
            "justify_items": null,
            "left": null,
            "margin": null,
            "max_height": null,
            "max_width": null,
            "min_height": null,
            "min_width": null,
            "object_fit": null,
            "object_position": null,
            "order": null,
            "overflow": null,
            "overflow_x": null,
            "overflow_y": null,
            "padding": null,
            "right": null,
            "top": null,
            "visibility": null,
            "width": null
          }
        },
        "dd04d154288c4052afbb2789e32f42ab": {
          "model_module": "@jupyter-widgets/controls",
          "model_module_version": "1.5.0",
          "model_name": "DescriptionStyleModel",
          "state": {
            "_model_module": "@jupyter-widgets/controls",
            "_model_module_version": "1.5.0",
            "_model_name": "DescriptionStyleModel",
            "_view_count": null,
            "_view_module": "@jupyter-widgets/base",
            "_view_module_version": "1.2.0",
            "_view_name": "StyleView",
            "description_width": ""
          }
        },
        "dd92c19aaaf842af99e954a1a1aed13e": {
          "model_module": "@jupyter-widgets/controls",
          "model_module_version": "1.5.0",
          "model_name": "HBoxModel",
          "state": {
            "_dom_classes": [],
            "_model_module": "@jupyter-widgets/controls",
            "_model_module_version": "1.5.0",
            "_model_name": "HBoxModel",
            "_view_count": null,
            "_view_module": "@jupyter-widgets/controls",
            "_view_module_version": "1.5.0",
            "_view_name": "HBoxView",
            "box_style": "",
            "children": [
              "IPY_MODEL_5233b9cde8bd4f4dad7a6f93febbe1ab",
              "IPY_MODEL_827afd10d48d4947853e710bd7e51025",
              "IPY_MODEL_292c3ebdb827480aa75756966be91959"
            ],
            "layout": "IPY_MODEL_1d095e070192437a98ab4cf85032ad5d"
          }
        },
        "e1e46698e7054bb381f10acfa89d538a": {
          "model_module": "@jupyter-widgets/controls",
          "model_module_version": "1.5.0",
          "model_name": "ProgressStyleModel",
          "state": {
            "_model_module": "@jupyter-widgets/controls",
            "_model_module_version": "1.5.0",
            "_model_name": "ProgressStyleModel",
            "_view_count": null,
            "_view_module": "@jupyter-widgets/base",
            "_view_module_version": "1.2.0",
            "_view_name": "StyleView",
            "bar_color": null,
            "description_width": ""
          }
        },
        "e243e7a68fa94b3ca55f16817967f101": {
          "model_module": "@jupyter-widgets/controls",
          "model_module_version": "1.5.0",
          "model_name": "DescriptionStyleModel",
          "state": {
            "_model_module": "@jupyter-widgets/controls",
            "_model_module_version": "1.5.0",
            "_model_name": "DescriptionStyleModel",
            "_view_count": null,
            "_view_module": "@jupyter-widgets/base",
            "_view_module_version": "1.2.0",
            "_view_name": "StyleView",
            "description_width": ""
          }
        },
        "ececa464128e4f848c85dc8685e14609": {
          "model_module": "@jupyter-widgets/controls",
          "model_module_version": "1.5.0",
          "model_name": "DescriptionStyleModel",
          "state": {
            "_model_module": "@jupyter-widgets/controls",
            "_model_module_version": "1.5.0",
            "_model_name": "DescriptionStyleModel",
            "_view_count": null,
            "_view_module": "@jupyter-widgets/base",
            "_view_module_version": "1.2.0",
            "_view_name": "StyleView",
            "description_width": ""
          }
        },
        "ed739418e38b45ff85215c9dc05f98e7": {
          "model_module": "@jupyter-widgets/base",
          "model_module_version": "1.2.0",
          "model_name": "LayoutModel",
          "state": {
            "_model_module": "@jupyter-widgets/base",
            "_model_module_version": "1.2.0",
            "_model_name": "LayoutModel",
            "_view_count": null,
            "_view_module": "@jupyter-widgets/base",
            "_view_module_version": "1.2.0",
            "_view_name": "LayoutView",
            "align_content": null,
            "align_items": null,
            "align_self": null,
            "border": null,
            "bottom": null,
            "display": null,
            "flex": null,
            "flex_flow": null,
            "grid_area": null,
            "grid_auto_columns": null,
            "grid_auto_flow": null,
            "grid_auto_rows": null,
            "grid_column": null,
            "grid_gap": null,
            "grid_row": null,
            "grid_template_areas": null,
            "grid_template_columns": null,
            "grid_template_rows": null,
            "height": null,
            "justify_content": null,
            "justify_items": null,
            "left": null,
            "margin": null,
            "max_height": null,
            "max_width": null,
            "min_height": null,
            "min_width": null,
            "object_fit": null,
            "object_position": null,
            "order": null,
            "overflow": null,
            "overflow_x": null,
            "overflow_y": null,
            "padding": null,
            "right": null,
            "top": null,
            "visibility": null,
            "width": null
          }
        },
        "fa7033a0469a489a98d36fb30c6d3036": {
          "model_module": "@jupyter-widgets/controls",
          "model_module_version": "1.5.0",
          "model_name": "DescriptionStyleModel",
          "state": {
            "_model_module": "@jupyter-widgets/controls",
            "_model_module_version": "1.5.0",
            "_model_name": "DescriptionStyleModel",
            "_view_count": null,
            "_view_module": "@jupyter-widgets/base",
            "_view_module_version": "1.2.0",
            "_view_name": "StyleView",
            "description_width": ""
          }
        },
        "fb73f16af88a4341b051dd14098b6cfa": {
          "model_module": "@jupyter-widgets/controls",
          "model_module_version": "1.5.0",
          "model_name": "HTMLModel",
          "state": {
            "_dom_classes": [],
            "_model_module": "@jupyter-widgets/controls",
            "_model_module_version": "1.5.0",
            "_model_name": "HTMLModel",
            "_view_count": null,
            "_view_module": "@jupyter-widgets/controls",
            "_view_module_version": "1.5.0",
            "_view_name": "HTMLView",
            "description": "",
            "description_tooltip": null,
            "layout": "IPY_MODEL_7055f30d27104389a6b8b16749d37e37",
            "placeholder": "​",
            "style": "IPY_MODEL_6315873d24e04678b17c81983ad30014",
            "value": "Downloading: 100%"
          }
        },
        "feb93385bdc545679f0d6f59fec24a8f": {
          "model_module": "@jupyter-widgets/controls",
          "model_module_version": "1.5.0",
          "model_name": "HTMLModel",
          "state": {
            "_dom_classes": [],
            "_model_module": "@jupyter-widgets/controls",
            "_model_module_version": "1.5.0",
            "_model_name": "HTMLModel",
            "_view_count": null,
            "_view_module": "@jupyter-widgets/controls",
            "_view_module_version": "1.5.0",
            "_view_name": "HTMLView",
            "description": "",
            "description_tooltip": null,
            "layout": "IPY_MODEL_ed739418e38b45ff85215c9dc05f98e7",
            "placeholder": "​",
            "style": "IPY_MODEL_215a4c69dda54f1c9342dadfa09039df",
            "value": "Downloading: 100%"
          }
        }
      }
    }
  },
  "nbformat": 4,
  "nbformat_minor": 0
}